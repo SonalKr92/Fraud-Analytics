{
 "cells": [
  {
   "cell_type": "code",
   "execution_count": 3,
   "metadata": {
    "collapsed": true
   },
   "outputs": [],
   "source": [
    "import numpy as np\n",
    "import pandas as pd"
   ]
  },
  {
   "cell_type": "code",
   "execution_count": 4,
   "metadata": {
    "collapsed": true
   },
   "outputs": [],
   "source": [
    "import datetime"
   ]
  },
  {
   "cell_type": "code",
   "execution_count": 6,
   "metadata": {
    "collapsed": false
   },
   "outputs": [],
   "source": [
    "trans= pd.read_excel(\"C:/Users/sonalk/Documents/My Received Files/Transaction_DB_jupyter.xlsx\")"
   ]
  },
  {
   "cell_type": "code",
   "execution_count": 4,
   "metadata": {
    "collapsed": true
   },
   "outputs": [],
   "source": [
    "trans=pd.DataFrame(trans)"
   ]
  },
  {
   "cell_type": "code",
   "execution_count": 5,
   "metadata": {
    "collapsed": false
   },
   "outputs": [
    {
     "data": {
      "text/plain": [
       "(1050, 35)"
      ]
     },
     "execution_count": 5,
     "metadata": {},
     "output_type": "execute_result"
    }
   ],
   "source": [
    "trans.shape"
   ]
  },
  {
   "cell_type": "markdown",
   "metadata": {},
   "source": [
    "**Converting Current System Time to a Pandas Timestamp**"
   ]
  },
  {
   "cell_type": "code",
   "execution_count": 10,
   "metadata": {
    "collapsed": false
   },
   "outputs": [
    {
     "data": {
      "text/plain": [
       "Timestamp('2017-07-17 13:59:10.503000')"
      ]
     },
     "execution_count": 10,
     "metadata": {},
     "output_type": "execute_result"
    }
   ],
   "source": [
    "current_time=datetime.datetime.now()\n",
    "current_time\n",
    "pd.Timestamp(current_time)"
   ]
  },
  {
   "cell_type": "markdown",
   "metadata": {},
   "source": [
    "**Convert all Date and Time attributes**"
   ]
  },
  {
   "cell_type": "code",
   "execution_count": 7,
   "metadata": {
    "collapsed": false
   },
   "outputs": [],
   "source": [
    "trans.DOB=pd.to_datetime(trans.DOB)"
   ]
  },
  {
   "cell_type": "code",
   "execution_count": 8,
   "metadata": {
    "collapsed": false
   },
   "outputs": [
    {
     "data": {
      "text/plain": [
       "isFraud                                        int64\n",
       "Customer_Name                                 object\n",
       "Card_Number                                    int64\n",
       "Card_Type                                     object\n",
       "Gender                                        object\n",
       "DOB                                   datetime64[ns]\n",
       "Age                                            int64\n",
       "Base_Location                                 object\n",
       "Base_Latitude                                float64\n",
       "Base_Longitude                               float64\n",
       "Credit_limit                                   int64\n",
       "Avg_No_of_Transactions                         int64\n",
       "Currency                                      object\n",
       "Transaction_Amount                             int64\n",
       "Current_Balance                                int64\n",
       "Transaction_Timestamp                 datetime64[ns]\n",
       "Purchase_Type                                 object\n",
       "Merchant_Type                                 object\n",
       "Merchant_Code                                  int64\n",
       "Merchant_Profile_Score                         int64\n",
       "Fraud_Risk_of_Merchant_Type                   object\n",
       "Transaction_Time                               int64\n",
       "Time_Since_Last_Transaction                  float64\n",
       "Transaction_Location                          object\n",
       "Transaction_Latitude                         float64\n",
       "Transaction_Longitude                        float64\n",
       "Distance                                     float64\n",
       "No_of_Transactions_Last_24_hrs                 int64\n",
       "Amount_Transacted_Last_24hrs                   int64\n",
       "Previous_Day_Transaction_Timestamp    datetime64[ns]\n",
       "Transaction_Year                               int64\n",
       "Transaction_Month                              int64\n",
       "Time_Diff_in_hours                             int64\n",
       "Quarter                                       object\n",
       "Quarterly_Spending                             int64\n",
       "dtype: object"
      ]
     },
     "execution_count": 8,
     "metadata": {},
     "output_type": "execute_result"
    }
   ],
   "source": [
    "trans.dtypes\n"
   ]
  },
  {
   "cell_type": "markdown",
   "metadata": {},
   "source": [
    "**Code for calculating # Transactions in Last 24 hours**"
   ]
  },
  {
   "cell_type": "code",
   "execution_count": 11,
   "metadata": {
    "collapsed": false
   },
   "outputs": [
    {
     "data": {
      "text/plain": [
       "Timestamp('2017-07-16 13:59:10.503000')"
      ]
     },
     "execution_count": 11,
     "metadata": {},
     "output_type": "execute_result"
    }
   ],
   "source": [
    "previous_day_timestamp=pd.to_datetime(current_time-datetime.timedelta(1))\n",
    "previous_day_timestamp"
   ]
  },
  {
   "cell_type": "code",
   "execution_count": 12,
   "metadata": {
    "collapsed": false
   },
   "outputs": [],
   "source": [
    "trans[\"Transaction_Timestamp\"]=trans[\"Transaction_Timestamp\"].sort_values()"
   ]
  },
  {
   "cell_type": "code",
   "execution_count": 13,
   "metadata": {
    "collapsed": false
   },
   "outputs": [],
   "source": [
    "trans[\"Previous_Day_Transaction_Timestamp\"]=pd.to_datetime(trans.Transaction_Timestamp-datetime.timedelta(1))"
   ]
  },
  {
   "cell_type": "code",
   "execution_count": 27,
   "metadata": {
    "collapsed": false
   },
   "outputs": [
    {
     "data": {
      "text/plain": [
       "[array([162, 163, 164, 165, 166, 167, 168, 169, 170, 171], dtype=int64),\n",
       " array([622, 623, 624, 625, 626, 627, 628, 629, 630, 631], dtype=int64),\n",
       " array([422, 423, 424, 425, 426, 427, 428, 429, 430, 431], dtype=int64),\n",
       " array([112, 113, 114, 115, 116, 117, 118, 119, 120, 121], dtype=int64),\n",
       " array([412, 413, 414, 415, 416, 417, 418, 419, 420, 421], dtype=int64),\n",
       " array([822, 823, 824, 825, 826, 827, 828, 829, 830, 831], dtype=int64),\n",
       " array([402, 403, 404, 405, 406, 407, 408, 409, 410, 411], dtype=int64),\n",
       " array([482, 483, 484, 485, 486, 487, 488, 489, 490, 491], dtype=int64),\n",
       " array([100, 101], dtype=int64),\n",
       " array([122, 123, 124, 125, 126, 127, 128, 129, 130, 131], dtype=int64),\n",
       " array([772, 773, 774, 775, 776, 777, 778, 779, 780, 781], dtype=int64),\n",
       " array([602, 603, 604, 605, 606, 607, 608, 609, 610, 611], dtype=int64),\n",
       " array([492, 493, 494, 495, 496, 497, 498, 499, 500, 501], dtype=int64),\n",
       " array([352, 353, 354, 355, 356, 357, 358, 359, 360, 361], dtype=int64),\n",
       " array([672, 673, 674, 675, 676, 677, 678, 679, 680, 681], dtype=int64),\n",
       " array([462, 463, 464, 465, 466, 467, 468, 469, 470, 471], dtype=int64),\n",
       " array([472, 473, 474, 475, 476, 477, 478, 479, 480, 481], dtype=int64),\n",
       " array([582, 583, 584, 585, 586, 587, 588, 589, 590, 591], dtype=int64),\n",
       " array([202, 203, 204, 205, 206, 207, 208, 209, 210, 211], dtype=int64),\n",
       " array([722, 723, 724, 725, 726, 727, 728, 729, 730, 731], dtype=int64),\n",
       " array([20, 21, 22, 23, 24, 25, 26, 27, 28, 29], dtype=int64),\n",
       " array([0, 1, 2, 3, 4, 5, 6, 7, 8, 9], dtype=int64),\n",
       " array([562, 563, 564, 565, 566, 567, 568, 569, 570, 571], dtype=int64),\n",
       " array([852, 853, 854, 855, 856, 857, 858, 859, 860, 861], dtype=int64),\n",
       " array([292, 293, 294, 295, 296, 297, 298, 299, 300, 301], dtype=int64),\n",
       " array([502, 503, 504, 505, 506, 507, 508, 509, 510, 511], dtype=int64),\n",
       " array([912, 913, 914, 915, 916, 917, 918, 919, 920, 921], dtype=int64),\n",
       " array([90, 91, 92, 93, 94, 95, 96, 97, 98, 99], dtype=int64),\n",
       " array([812, 813, 814, 815, 816, 817, 818, 819, 820, 821], dtype=int64),\n",
       " array([222, 223, 224, 225, 226, 227, 228, 229, 230, 231], dtype=int64),\n",
       " array([1000, 1001, 1002, 1003, 1004, 1005, 1006, 1007, 1008, 1009, 1010,\n",
       "        1011, 1012, 1013, 1014, 1015, 1016, 1017, 1018, 1019, 1020, 1021,\n",
       "        1022, 1023, 1024, 1025, 1026, 1027, 1028, 1029, 1030, 1031, 1032,\n",
       "        1033, 1034, 1035, 1036, 1037, 1038, 1039, 1040, 1041, 1042, 1043,\n",
       "        1044, 1045, 1046, 1047, 1048, 1049], dtype=int64),\n",
       " array([60, 61, 62, 63, 64, 65, 66, 67, 68, 69], dtype=int64),\n",
       " array([552, 553, 554, 555, 556, 557, 558, 559, 560, 561], dtype=int64),\n",
       " array([102, 103, 104, 105, 106, 107, 108, 109, 110, 111], dtype=int64),\n",
       " array([312, 313, 314, 315, 316, 317, 318, 319, 320, 321], dtype=int64),\n",
       " array([192, 193, 194, 195, 196, 197, 198, 199, 200, 201], dtype=int64),\n",
       " array([632, 633, 634, 635, 636, 637, 638, 639, 640, 641], dtype=int64),\n",
       " array([862, 863, 864, 865, 866, 867, 868, 869, 870, 871], dtype=int64),\n",
       " array([70, 71, 72, 73, 74, 75, 76, 77, 78, 79], dtype=int64),\n",
       " array([572, 573, 574, 575, 576, 577, 578, 579, 580, 581], dtype=int64),\n",
       " array([372, 373, 374, 375, 376, 377, 378, 379, 380, 381], dtype=int64),\n",
       " array([692, 693, 694, 695, 696, 697, 698, 699, 700, 701], dtype=int64),\n",
       " array([542, 543, 544, 545, 546, 547, 548, 549, 550, 551], dtype=int64),\n",
       " array([232, 233, 234, 235, 236, 237, 238, 239, 240, 241], dtype=int64),\n",
       " array([322, 323, 324, 325, 326, 327, 328, 329, 330, 331], dtype=int64),\n",
       " array([382, 383, 384, 385, 386, 387, 388, 389, 390, 391], dtype=int64),\n",
       " array([982, 983, 984, 985, 986, 987, 988, 989, 990, 991, 992, 993, 994,\n",
       "        995, 996, 997, 998, 999], dtype=int64),\n",
       " array([712, 713, 714, 715, 716, 717, 718, 719, 720, 721], dtype=int64),\n",
       " array([132, 133, 134, 135, 136, 137, 138, 139, 140, 141], dtype=int64),\n",
       " array([682, 683, 684, 685, 686, 687, 688, 689, 690, 691], dtype=int64),\n",
       " array([782, 783, 784, 785, 786, 787, 788, 789, 790, 791], dtype=int64),\n",
       " array([342, 343, 344, 345, 346, 347, 348, 349, 350, 351], dtype=int64),\n",
       " array([972, 973, 974, 975, 976, 977, 978, 979, 980, 981], dtype=int64),\n",
       " array([272, 273, 274, 275, 276, 277, 278, 279, 280, 281], dtype=int64),\n",
       " array([392, 393], dtype=int64),\n",
       " array([842, 843, 844, 845, 846, 847, 848, 849, 850, 851], dtype=int64),\n",
       " array([394, 395, 396, 397, 398, 399, 400, 401], dtype=int64),\n",
       " array([332, 333, 334, 335, 336, 337, 338, 339, 340, 341], dtype=int64),\n",
       " array([212, 213, 214, 215, 216, 217, 218, 219, 220, 221], dtype=int64),\n",
       " array([50, 51, 52, 53, 54, 55, 56, 57, 58, 59], dtype=int64),\n",
       " array([80, 81, 82, 83, 84, 85, 86, 87, 88, 89], dtype=int64),\n",
       " array([962, 963, 964, 965, 966, 967, 968, 969, 970, 971], dtype=int64),\n",
       " array([752, 753, 754, 755, 756, 757, 758, 759, 760, 761], dtype=int64),\n",
       " array([792, 793, 794, 795, 796, 797, 798, 799, 800, 801], dtype=int64),\n",
       " array([10, 11, 12, 13, 14, 15, 16, 17, 18, 19], dtype=int64),\n",
       " array([732, 733, 734, 735, 736, 737, 738, 739, 740, 741], dtype=int64),\n",
       " array([882, 883, 884, 885, 886, 887, 888, 889, 890, 891], dtype=int64),\n",
       " array([872, 873, 874, 875, 876, 877, 878, 879, 880, 881], dtype=int64),\n",
       " array([762, 763, 764, 765, 766, 767, 768, 769, 770, 771], dtype=int64),\n",
       " array([182, 183, 184, 185, 186, 187, 188, 189, 190, 191], dtype=int64),\n",
       " array([702, 703, 704, 705, 706, 707, 708, 709, 710, 711], dtype=int64),\n",
       " array([302, 303, 304, 305, 306, 307, 308, 309, 310, 311], dtype=int64),\n",
       " array([802, 803, 804, 805, 806, 807, 808, 809, 810, 811], dtype=int64),\n",
       " array([652, 653, 654, 655, 656, 657, 658, 659, 660, 661], dtype=int64),\n",
       " array([532, 533, 534, 535, 536, 537, 538, 539, 540, 541], dtype=int64),\n",
       " array([252, 253, 254, 255, 256, 257, 258, 259, 260, 261], dtype=int64),\n",
       " array([742, 743, 744, 745, 746, 747, 748, 749, 750, 751], dtype=int64),\n",
       " array([282, 283, 284, 285, 286, 287, 288, 289, 290, 291], dtype=int64),\n",
       " array([142, 143, 144, 145, 146, 147, 148, 149, 150, 151], dtype=int64),\n",
       " array([592, 593, 594, 595, 596, 597, 598, 599, 600, 601], dtype=int64),\n",
       " array([612, 613, 614, 615, 616, 617, 618, 619, 620, 621], dtype=int64),\n",
       " array([172, 173, 174, 175, 176, 177, 178, 179, 180, 181], dtype=int64),\n",
       " array([362, 363, 364, 365, 366, 367, 368, 369, 370, 371], dtype=int64),\n",
       " array([452, 453, 454, 455, 456, 457, 458, 459, 460, 461], dtype=int64),\n",
       " array([662, 663, 664, 665, 666, 667, 668, 669, 670, 671], dtype=int64),\n",
       " array([892, 893, 894, 895, 896, 897, 898, 899, 900, 901], dtype=int64),\n",
       " array([512, 513, 514, 515, 516, 517, 518, 519, 520, 521], dtype=int64),\n",
       " array([152, 153, 154, 155, 156, 157, 158, 159, 160, 161], dtype=int64),\n",
       " array([40, 41, 42, 43, 44, 45, 46, 47, 48, 49], dtype=int64),\n",
       " array([432, 433, 434, 435, 436, 437, 438, 439, 440, 441], dtype=int64),\n",
       " array([242, 243, 244, 245, 246, 247, 248, 249, 250, 251], dtype=int64),\n",
       " array([902, 903, 904, 905, 906, 907, 908, 909, 910, 911], dtype=int64),\n",
       " array([832, 833, 834, 835, 836, 837, 838, 839, 840, 841], dtype=int64),\n",
       " array([262, 263, 264, 265, 266, 267, 268, 269, 270, 271], dtype=int64),\n",
       " array([30, 31, 32, 33, 34, 35, 36, 37, 38, 39], dtype=int64),\n",
       " array([952, 953, 954, 955, 956, 957, 958, 959, 960, 961], dtype=int64),\n",
       " array([932, 933, 934, 935, 936, 937, 938, 939, 940, 941], dtype=int64),\n",
       " array([942, 943, 944, 945, 946, 947, 948, 949, 950, 951], dtype=int64),\n",
       " array([922, 923, 924, 925, 926, 927, 928, 929, 930, 931], dtype=int64),\n",
       " array([442, 443, 444, 445, 446, 447, 448, 449, 450, 451], dtype=int64),\n",
       " array([522, 523, 524, 525, 526, 527, 528, 529, 530, 531], dtype=int64),\n",
       " array([642, 643, 644, 645, 646, 647, 648, 649, 650, 651], dtype=int64)]"
      ]
     },
     "execution_count": 27,
     "metadata": {},
     "output_type": "execute_result"
    }
   ],
   "source": [
    "df=trans.groupby(\"Card_Number\")\n",
    "df.indices.values()"
   ]
  },
  {
   "cell_type": "code",
   "execution_count": 16,
   "metadata": {
    "collapsed": false
   },
   "outputs": [
    {
     "name": "stderr",
     "output_type": "stream",
     "text": [
      "C:\\Anaconda2\\lib\\site-packages\\ipykernel\\__main__.py:18: SettingWithCopyWarning: \n",
      "A value is trying to be set on a copy of a slice from a DataFrame\n",
      "\n",
      "See the caveats in the documentation: http://pandas.pydata.org/pandas-docs/stable/indexing.html#indexing-view-versus-copy\n",
      "C:\\Anaconda2\\lib\\site-packages\\ipykernel\\__main__.py:7: SettingWithCopyWarning: \n",
      "A value is trying to be set on a copy of a slice from a DataFrame\n",
      "\n",
      "See the caveats in the documentation: http://pandas.pydata.org/pandas-docs/stable/indexing.html#indexing-view-versus-copy\n"
     ]
    }
   ],
   "source": [
    "for i in df.indices.values():\n",
    "    list=i\n",
    "    for j in list:\n",
    "        count=0\n",
    "        if j==0:\n",
    "            count=0\n",
    "            trans.No_of_Transactions_Last_24_hrs[j]=count\n",
    "        else:\n",
    "            x=j\n",
    "            count=0\n",
    "            while (trans.Transaction_Timestamp[x]>trans.Transaction_Timestamp[j-1]>trans.Previous_Day_Transaction_Timestamp[x]):\n",
    "                    count=count+1\n",
    "                    if j>1:\n",
    "                        j=j-1\n",
    "                    else:\n",
    "                        j=2\n",
    "            else:\n",
    "                trans.No_of_Transactions_Last_24_hrs[x]=count"
   ]
  },
  {
   "cell_type": "markdown",
   "metadata": {
    "collapsed": false
   },
   "source": [
    "**Code to Calculate Amount Transacted in Last 24 Hours**"
   ]
  },
  {
   "cell_type": "code",
   "execution_count": 14,
   "metadata": {
    "collapsed": true
   },
   "outputs": [],
   "source": [
    "df=trans.groupby(\"Card_Number\")"
   ]
  },
  {
   "cell_type": "code",
   "execution_count": 15,
   "metadata": {
    "collapsed": false
   },
   "outputs": [
    {
     "name": "stderr",
     "output_type": "stream",
     "text": [
      "C:\\ProgramData\\Anaconda3\\lib\\site-packages\\ipykernel\\__main__.py:18: SettingWithCopyWarning: \n",
      "A value is trying to be set on a copy of a slice from a DataFrame\n",
      "\n",
      "See the caveats in the documentation: http://pandas.pydata.org/pandas-docs/stable/indexing.html#indexing-view-versus-copy\n",
      "C:\\ProgramData\\Anaconda3\\lib\\site-packages\\ipykernel\\__main__.py:7: SettingWithCopyWarning: \n",
      "A value is trying to be set on a copy of a slice from a DataFrame\n",
      "\n",
      "See the caveats in the documentation: http://pandas.pydata.org/pandas-docs/stable/indexing.html#indexing-view-versus-copy\n"
     ]
    }
   ],
   "source": [
    "for i in df.indices.values():\n",
    "    list=i\n",
    "    for j in list:\n",
    "        amount=0\n",
    "        if j==0:\n",
    "            amount=0\n",
    "            trans.Amount_Transacted_Last_24hrs[j]=amount\n",
    "        else:\n",
    "            x=j\n",
    "            amount=0\n",
    "            while (trans.Transaction_Timestamp[x]>trans.Transaction_Timestamp[j-1]>trans.Previous_Day_Transaction_Timestamp[x]):\n",
    "                    amount=amount+trans.Transaction_Amount[j-1]\n",
    "                    if j>1:\n",
    "                        j=j-1\n",
    "                    else:\n",
    "                        j=2\n",
    "            else:\n",
    "              trans.Amount_Transacted_Last_24hrs[x]=amount"
   ]
  },
  {
   "cell_type": "code",
   "execution_count": 16,
   "metadata": {
    "collapsed": false
   },
   "outputs": [
    {
     "data": {
      "text/html": [
       "<div>\n",
       "<style>\n",
       "    .dataframe thead tr:only-child th {\n",
       "        text-align: right;\n",
       "    }\n",
       "\n",
       "    .dataframe thead th {\n",
       "        text-align: left;\n",
       "    }\n",
       "\n",
       "    .dataframe tbody tr th {\n",
       "        vertical-align: top;\n",
       "    }\n",
       "</style>\n",
       "<table border=\"1\" class=\"dataframe\">\n",
       "  <thead>\n",
       "    <tr style=\"text-align: right;\">\n",
       "      <th></th>\n",
       "      <th>Transaction_Timestamp</th>\n",
       "      <th>Previous_Day_Transaction_Timestamp</th>\n",
       "      <th>No_of_Transactions_Last_24_hrs</th>\n",
       "      <th>Transaction_Amount</th>\n",
       "      <th>Amount_Transacted_Last_24hrs</th>\n",
       "    </tr>\n",
       "  </thead>\n",
       "  <tbody>\n",
       "    <tr>\n",
       "      <th>0</th>\n",
       "      <td>2017-03-06 12:42:00</td>\n",
       "      <td>2017-03-05 12:42:00</td>\n",
       "      <td>0</td>\n",
       "      <td>7705</td>\n",
       "      <td>0</td>\n",
       "    </tr>\n",
       "    <tr>\n",
       "      <th>1</th>\n",
       "      <td>2017-03-07 06:25:00</td>\n",
       "      <td>2017-03-06 06:25:00</td>\n",
       "      <td>1</td>\n",
       "      <td>6177</td>\n",
       "      <td>7705</td>\n",
       "    </tr>\n",
       "    <tr>\n",
       "      <th>2</th>\n",
       "      <td>2017-03-08 04:08:00</td>\n",
       "      <td>2017-03-07 04:08:00</td>\n",
       "      <td>1</td>\n",
       "      <td>8386</td>\n",
       "      <td>6177</td>\n",
       "    </tr>\n",
       "    <tr>\n",
       "      <th>3</th>\n",
       "      <td>2017-03-08 09:06:00</td>\n",
       "      <td>2017-03-07 09:06:00</td>\n",
       "      <td>1</td>\n",
       "      <td>6773</td>\n",
       "      <td>8386</td>\n",
       "    </tr>\n",
       "    <tr>\n",
       "      <th>4</th>\n",
       "      <td>2017-03-09 00:10:00</td>\n",
       "      <td>2017-03-08 00:10:00</td>\n",
       "      <td>2</td>\n",
       "      <td>13394</td>\n",
       "      <td>15159</td>\n",
       "    </tr>\n",
       "    <tr>\n",
       "      <th>5</th>\n",
       "      <td>2017-03-11 00:41:00</td>\n",
       "      <td>2017-03-10 00:41:00</td>\n",
       "      <td>0</td>\n",
       "      <td>5105</td>\n",
       "      <td>0</td>\n",
       "    </tr>\n",
       "    <tr>\n",
       "      <th>6</th>\n",
       "      <td>2017-03-11 05:04:00</td>\n",
       "      <td>2017-03-10 05:04:00</td>\n",
       "      <td>1</td>\n",
       "      <td>7972</td>\n",
       "      <td>5105</td>\n",
       "    </tr>\n",
       "    <tr>\n",
       "      <th>7</th>\n",
       "      <td>2017-03-12 04:14:00</td>\n",
       "      <td>2017-03-11 04:14:00</td>\n",
       "      <td>1</td>\n",
       "      <td>8561</td>\n",
       "      <td>7972</td>\n",
       "    </tr>\n",
       "    <tr>\n",
       "      <th>8</th>\n",
       "      <td>2017-03-13 01:46:00</td>\n",
       "      <td>2017-03-12 01:46:00</td>\n",
       "      <td>1</td>\n",
       "      <td>8992</td>\n",
       "      <td>8561</td>\n",
       "    </tr>\n",
       "    <tr>\n",
       "      <th>9</th>\n",
       "      <td>2017-03-15 02:40:00</td>\n",
       "      <td>2017-03-14 02:40:00</td>\n",
       "      <td>0</td>\n",
       "      <td>10408</td>\n",
       "      <td>0</td>\n",
       "    </tr>\n",
       "  </tbody>\n",
       "</table>\n",
       "</div>"
      ],
      "text/plain": [
       "  Transaction_Timestamp Previous_Day_Transaction_Timestamp  \\\n",
       "0   2017-03-06 12:42:00                2017-03-05 12:42:00   \n",
       "1   2017-03-07 06:25:00                2017-03-06 06:25:00   \n",
       "2   2017-03-08 04:08:00                2017-03-07 04:08:00   \n",
       "3   2017-03-08 09:06:00                2017-03-07 09:06:00   \n",
       "4   2017-03-09 00:10:00                2017-03-08 00:10:00   \n",
       "5   2017-03-11 00:41:00                2017-03-10 00:41:00   \n",
       "6   2017-03-11 05:04:00                2017-03-10 05:04:00   \n",
       "7   2017-03-12 04:14:00                2017-03-11 04:14:00   \n",
       "8   2017-03-13 01:46:00                2017-03-12 01:46:00   \n",
       "9   2017-03-15 02:40:00                2017-03-14 02:40:00   \n",
       "\n",
       "   No_of_Transactions_Last_24_hrs  Transaction_Amount  \\\n",
       "0                               0                7705   \n",
       "1                               1                6177   \n",
       "2                               1                8386   \n",
       "3                               1                6773   \n",
       "4                               2               13394   \n",
       "5                               0                5105   \n",
       "6                               1                7972   \n",
       "7                               1                8561   \n",
       "8                               1                8992   \n",
       "9                               0               10408   \n",
       "\n",
       "   Amount_Transacted_Last_24hrs  \n",
       "0                             0  \n",
       "1                          7705  \n",
       "2                          6177  \n",
       "3                          8386  \n",
       "4                         15159  \n",
       "5                             0  \n",
       "6                          5105  \n",
       "7                          7972  \n",
       "8                          8561  \n",
       "9                             0  "
      ]
     },
     "execution_count": 16,
     "metadata": {},
     "output_type": "execute_result"
    }
   ],
   "source": [
    "list_d=[\"Transaction_Timestamp\",\"Previous_Day_Transaction_Timestamp\",\"No_of_Transactions_Last_24_hrs\",\"Transaction_Amount\",\"Amount_Transacted_Last_24hrs\"]\n",
    "trans[list_d][:10]"
   ]
  },
  {
   "cell_type": "markdown",
   "metadata": {
    "collapsed": true
   },
   "source": [
    "**Code to Calculate Current_Balance**"
   ]
  },
  {
   "cell_type": "code",
   "execution_count": 17,
   "metadata": {
    "collapsed": false
   },
   "outputs": [],
   "source": [
    "trans[\"Transaction_Year\"]=pd.DatetimeIndex(trans[\"Transaction_Timestamp\"]).year.tolist()\n",
    "trans[\"Transaction_Month\"]=pd.DatetimeIndex(trans[\"Transaction_Timestamp\"]).month.tolist()"
   ]
  },
  {
   "cell_type": "code",
   "execution_count": 18,
   "metadata": {
    "collapsed": false
   },
   "outputs": [],
   "source": [
    "dr=trans.groupby([\"Card_Number\",\"Transaction_Month\",\"Transaction_Year\"])"
   ]
  },
  {
   "cell_type": "code",
   "execution_count": 19,
   "metadata": {
    "collapsed": false
   },
   "outputs": [
    {
     "name": "stderr",
     "output_type": "stream",
     "text": [
      "C:\\ProgramData\\Anaconda3\\lib\\site-packages\\ipykernel\\__main__.py:8: SettingWithCopyWarning: \n",
      "A value is trying to be set on a copy of a slice from a DataFrame\n",
      "\n",
      "See the caveats in the documentation: http://pandas.pydata.org/pandas-docs/stable/indexing.html#indexing-view-versus-copy\n",
      "C:\\ProgramData\\Anaconda3\\lib\\site-packages\\ipykernel\\__main__.py:11: SettingWithCopyWarning: \n",
      "A value is trying to be set on a copy of a slice from a DataFrame\n",
      "\n",
      "See the caveats in the documentation: http://pandas.pydata.org/pandas-docs/stable/indexing.html#indexing-view-versus-copy\n"
     ]
    }
   ],
   "source": [
    "for i in dr.indices.values():\n",
    "    list=i\n",
    "    count=0\n",
    "    for j in list:\n",
    "        if count==0:\n",
    "            Current_Balance=trans.Credit_limit[j]-trans.Transaction_Amount[j]\n",
    "            count=count+1\n",
    "            trans.Current_Balance[j]=Current_Balance\n",
    "        else:\n",
    "            Current_Balance=Current_Balance-trans.Transaction_Amount[j]\n",
    "            trans.Current_Balance[j]=Current_Balance\n",
    "    \n",
    "            "
   ]
  },
  {
   "cell_type": "code",
   "execution_count": 20,
   "metadata": {
    "collapsed": false
   },
   "outputs": [
    {
     "data": {
      "text/html": [
       "<div>\n",
       "<style>\n",
       "    .dataframe thead tr:only-child th {\n",
       "        text-align: right;\n",
       "    }\n",
       "\n",
       "    .dataframe thead th {\n",
       "        text-align: left;\n",
       "    }\n",
       "\n",
       "    .dataframe tbody tr th {\n",
       "        vertical-align: top;\n",
       "    }\n",
       "</style>\n",
       "<table border=\"1\" class=\"dataframe\">\n",
       "  <thead>\n",
       "    <tr style=\"text-align: right;\">\n",
       "      <th></th>\n",
       "      <th>Transaction_Timestamp</th>\n",
       "      <th>Transaction_Amount</th>\n",
       "      <th>Credit_limit</th>\n",
       "      <th>Current_Balance</th>\n",
       "    </tr>\n",
       "  </thead>\n",
       "  <tbody>\n",
       "    <tr>\n",
       "      <th>0</th>\n",
       "      <td>2017-03-06 12:42:00</td>\n",
       "      <td>7705</td>\n",
       "      <td>350000</td>\n",
       "      <td>342295</td>\n",
       "    </tr>\n",
       "    <tr>\n",
       "      <th>1</th>\n",
       "      <td>2017-03-07 06:25:00</td>\n",
       "      <td>6177</td>\n",
       "      <td>350000</td>\n",
       "      <td>336118</td>\n",
       "    </tr>\n",
       "    <tr>\n",
       "      <th>2</th>\n",
       "      <td>2017-03-08 04:08:00</td>\n",
       "      <td>8386</td>\n",
       "      <td>350000</td>\n",
       "      <td>327732</td>\n",
       "    </tr>\n",
       "    <tr>\n",
       "      <th>3</th>\n",
       "      <td>2017-03-08 09:06:00</td>\n",
       "      <td>6773</td>\n",
       "      <td>350000</td>\n",
       "      <td>320959</td>\n",
       "    </tr>\n",
       "    <tr>\n",
       "      <th>4</th>\n",
       "      <td>2017-03-09 00:10:00</td>\n",
       "      <td>13394</td>\n",
       "      <td>350000</td>\n",
       "      <td>307565</td>\n",
       "    </tr>\n",
       "    <tr>\n",
       "      <th>5</th>\n",
       "      <td>2017-03-11 00:41:00</td>\n",
       "      <td>5105</td>\n",
       "      <td>350000</td>\n",
       "      <td>302460</td>\n",
       "    </tr>\n",
       "    <tr>\n",
       "      <th>6</th>\n",
       "      <td>2017-03-11 05:04:00</td>\n",
       "      <td>7972</td>\n",
       "      <td>350000</td>\n",
       "      <td>294488</td>\n",
       "    </tr>\n",
       "    <tr>\n",
       "      <th>7</th>\n",
       "      <td>2017-03-12 04:14:00</td>\n",
       "      <td>8561</td>\n",
       "      <td>350000</td>\n",
       "      <td>285927</td>\n",
       "    </tr>\n",
       "    <tr>\n",
       "      <th>8</th>\n",
       "      <td>2017-03-13 01:46:00</td>\n",
       "      <td>8992</td>\n",
       "      <td>350000</td>\n",
       "      <td>276935</td>\n",
       "    </tr>\n",
       "    <tr>\n",
       "      <th>9</th>\n",
       "      <td>2017-03-15 02:40:00</td>\n",
       "      <td>10408</td>\n",
       "      <td>350000</td>\n",
       "      <td>266527</td>\n",
       "    </tr>\n",
       "  </tbody>\n",
       "</table>\n",
       "</div>"
      ],
      "text/plain": [
       "  Transaction_Timestamp  Transaction_Amount  Credit_limit  Current_Balance\n",
       "0   2017-03-06 12:42:00                7705        350000           342295\n",
       "1   2017-03-07 06:25:00                6177        350000           336118\n",
       "2   2017-03-08 04:08:00                8386        350000           327732\n",
       "3   2017-03-08 09:06:00                6773        350000           320959\n",
       "4   2017-03-09 00:10:00               13394        350000           307565\n",
       "5   2017-03-11 00:41:00                5105        350000           302460\n",
       "6   2017-03-11 05:04:00                7972        350000           294488\n",
       "7   2017-03-12 04:14:00                8561        350000           285927\n",
       "8   2017-03-13 01:46:00                8992        350000           276935\n",
       "9   2017-03-15 02:40:00               10408        350000           266527"
      ]
     },
     "execution_count": 20,
     "metadata": {},
     "output_type": "execute_result"
    }
   ],
   "source": [
    "list_e=[\"Transaction_Timestamp\",\"Transaction_Amount\",\"Credit_limit\",\"Current_Balance\"]\n",
    "trans[list_e][0:10]"
   ]
  },
  {
   "cell_type": "markdown",
   "metadata": {},
   "source": [
    "**Code to Calculate Time Difference Since Last Transaction**"
   ]
  },
  {
   "cell_type": "code",
   "execution_count": 21,
   "metadata": {
    "collapsed": true
   },
   "outputs": [],
   "source": [
    "df=trans.groupby(\"Card_Number\")\n",
    "trans[\"Time_Diff_in_hours\"]=0"
   ]
  },
  {
   "cell_type": "code",
   "execution_count": 22,
   "metadata": {
    "collapsed": false
   },
   "outputs": [],
   "source": [
    "from math import ceil"
   ]
  },
  {
   "cell_type": "code",
   "execution_count": 23,
   "metadata": {
    "collapsed": false
   },
   "outputs": [
    {
     "name": "stderr",
     "output_type": "stream",
     "text": [
      "C:\\ProgramData\\Anaconda3\\lib\\site-packages\\ipykernel\\__main__.py:8: SettingWithCopyWarning: \n",
      "A value is trying to be set on a copy of a slice from a DataFrame\n",
      "\n",
      "See the caveats in the documentation: http://pandas.pydata.org/pandas-docs/stable/indexing.html#indexing-view-versus-copy\n",
      "C:\\ProgramData\\Anaconda3\\lib\\site-packages\\ipykernel\\__main__.py:9: SettingWithCopyWarning: \n",
      "A value is trying to be set on a copy of a slice from a DataFrame\n",
      "\n",
      "See the caveats in the documentation: http://pandas.pydata.org/pandas-docs/stable/indexing.html#indexing-view-versus-copy\n",
      "C:\\ProgramData\\Anaconda3\\lib\\site-packages\\ipykernel\\__main__.py:14: SettingWithCopyWarning: \n",
      "A value is trying to be set on a copy of a slice from a DataFrame\n",
      "\n",
      "See the caveats in the documentation: http://pandas.pydata.org/pandas-docs/stable/indexing.html#indexing-view-versus-copy\n",
      "C:\\ProgramData\\Anaconda3\\lib\\site-packages\\ipykernel\\__main__.py:15: SettingWithCopyWarning: \n",
      "A value is trying to be set on a copy of a slice from a DataFrame\n",
      "\n",
      "See the caveats in the documentation: http://pandas.pydata.org/pandas-docs/stable/indexing.html#indexing-view-versus-copy\n"
     ]
    }
   ],
   "source": [
    "for i in df.indices.values():\n",
    "    list=i\n",
    "    count=0\n",
    "    for j in list:\n",
    "        if count==0:\n",
    "            time_diff=0\n",
    "            count=count+1\n",
    "            trans.Time_Since_Last_Transaction[j]=time_diff\n",
    "            trans[\"Time_Diff_in_hours\"][j]=count\n",
    "        else:\n",
    "            time_diff=trans.Transaction_Timestamp[j]-trans.Transaction_Timestamp[j-1]\n",
    "            time_diff_days_to_sec=time_diff.days*86400\n",
    "            tot_sec=time_diff_days_to_sec+time_diff.seconds\n",
    "            trans.Time_Since_Last_Transaction[j]=time_diff\n",
    "            trans[\"Time_Diff_in_hours\"][j]=ceil(tot_sec/3600)"
   ]
  },
  {
   "cell_type": "code",
   "execution_count": 24,
   "metadata": {
    "collapsed": false
   },
   "outputs": [
    {
     "data": {
      "text/html": [
       "<div>\n",
       "<style>\n",
       "    .dataframe thead tr:only-child th {\n",
       "        text-align: right;\n",
       "    }\n",
       "\n",
       "    .dataframe thead th {\n",
       "        text-align: left;\n",
       "    }\n",
       "\n",
       "    .dataframe tbody tr th {\n",
       "        vertical-align: top;\n",
       "    }\n",
       "</style>\n",
       "<table border=\"1\" class=\"dataframe\">\n",
       "  <thead>\n",
       "    <tr style=\"text-align: right;\">\n",
       "      <th></th>\n",
       "      <th>Card_Number</th>\n",
       "      <th>Transaction_Timestamp</th>\n",
       "      <th>Time_Since_Last_Transaction</th>\n",
       "      <th>Time_Diff_in_hours</th>\n",
       "    </tr>\n",
       "  </thead>\n",
       "  <tbody>\n",
       "    <tr>\n",
       "      <th>10</th>\n",
       "      <td>6562037694752940</td>\n",
       "      <td>2017-03-06 02:17:00</td>\n",
       "      <td>0</td>\n",
       "      <td>1</td>\n",
       "    </tr>\n",
       "    <tr>\n",
       "      <th>11</th>\n",
       "      <td>6562037694752940</td>\n",
       "      <td>2017-03-07 05:17:00</td>\n",
       "      <td>1 days 03:00:00</td>\n",
       "      <td>27</td>\n",
       "    </tr>\n",
       "    <tr>\n",
       "      <th>12</th>\n",
       "      <td>6562037694752940</td>\n",
       "      <td>2017-03-07 21:01:00</td>\n",
       "      <td>0 days 15:44:00</td>\n",
       "      <td>16</td>\n",
       "    </tr>\n",
       "    <tr>\n",
       "      <th>13</th>\n",
       "      <td>6562037694752940</td>\n",
       "      <td>2017-03-10 05:46:00</td>\n",
       "      <td>2 days 08:45:00</td>\n",
       "      <td>57</td>\n",
       "    </tr>\n",
       "    <tr>\n",
       "      <th>14</th>\n",
       "      <td>6562037694752940</td>\n",
       "      <td>2017-03-10 17:26:00</td>\n",
       "      <td>0 days 11:40:00</td>\n",
       "      <td>12</td>\n",
       "    </tr>\n",
       "    <tr>\n",
       "      <th>15</th>\n",
       "      <td>6562037694752940</td>\n",
       "      <td>2017-03-11 04:21:00</td>\n",
       "      <td>0 days 10:55:00</td>\n",
       "      <td>11</td>\n",
       "    </tr>\n",
       "    <tr>\n",
       "      <th>16</th>\n",
       "      <td>6562037694752940</td>\n",
       "      <td>2017-03-12 00:30:00</td>\n",
       "      <td>0 days 20:09:00</td>\n",
       "      <td>21</td>\n",
       "    </tr>\n",
       "    <tr>\n",
       "      <th>17</th>\n",
       "      <td>6562037694752940</td>\n",
       "      <td>2017-03-12 18:54:00</td>\n",
       "      <td>0 days 18:24:00</td>\n",
       "      <td>19</td>\n",
       "    </tr>\n",
       "    <tr>\n",
       "      <th>18</th>\n",
       "      <td>6562037694752940</td>\n",
       "      <td>2017-03-12 19:17:00</td>\n",
       "      <td>0 days 00:23:00</td>\n",
       "      <td>1</td>\n",
       "    </tr>\n",
       "    <tr>\n",
       "      <th>19</th>\n",
       "      <td>6562037694752940</td>\n",
       "      <td>2017-03-14 08:23:00</td>\n",
       "      <td>1 days 13:06:00</td>\n",
       "      <td>38</td>\n",
       "    </tr>\n",
       "  </tbody>\n",
       "</table>\n",
       "</div>"
      ],
      "text/plain": [
       "         Card_Number Transaction_Timestamp Time_Since_Last_Transaction  \\\n",
       "10  6562037694752940   2017-03-06 02:17:00                           0   \n",
       "11  6562037694752940   2017-03-07 05:17:00             1 days 03:00:00   \n",
       "12  6562037694752940   2017-03-07 21:01:00             0 days 15:44:00   \n",
       "13  6562037694752940   2017-03-10 05:46:00             2 days 08:45:00   \n",
       "14  6562037694752940   2017-03-10 17:26:00             0 days 11:40:00   \n",
       "15  6562037694752940   2017-03-11 04:21:00             0 days 10:55:00   \n",
       "16  6562037694752940   2017-03-12 00:30:00             0 days 20:09:00   \n",
       "17  6562037694752940   2017-03-12 18:54:00             0 days 18:24:00   \n",
       "18  6562037694752940   2017-03-12 19:17:00             0 days 00:23:00   \n",
       "19  6562037694752940   2017-03-14 08:23:00             1 days 13:06:00   \n",
       "\n",
       "    Time_Diff_in_hours  \n",
       "10                   1  \n",
       "11                  27  \n",
       "12                  16  \n",
       "13                  57  \n",
       "14                  12  \n",
       "15                  11  \n",
       "16                  21  \n",
       "17                  19  \n",
       "18                   1  \n",
       "19                  38  "
      ]
     },
     "execution_count": 24,
     "metadata": {},
     "output_type": "execute_result"
    }
   ],
   "source": [
    "list_f=[\"Card_Number\",\"Transaction_Timestamp\",\"Time_Since_Last_Transaction\",\"Time_Diff_in_hours\"]\n",
    "trans[list_f][10:20]"
   ]
  },
  {
   "cell_type": "markdown",
   "metadata": {},
   "source": [
    "**Code to Calculate Distance from Last Transaction** "
   ]
  },
  {
   "cell_type": "code",
   "execution_count": 24,
   "metadata": {
    "collapsed": false
   },
   "outputs": [
    {
     "ename": "AttributeError",
     "evalue": "'DataFrameGroupBy' object has no attribute 'show'",
     "output_type": "error",
     "traceback": [
      "\u001b[1;31m---------------------------------------------------------------------------\u001b[0m",
      "\u001b[1;31mAttributeError\u001b[0m                            Traceback (most recent call last)",
      "\u001b[1;32m<ipython-input-24-68a1e7a1ba3a>\u001b[0m in \u001b[0;36m<module>\u001b[1;34m()\u001b[0m\n\u001b[0;32m      1\u001b[0m \u001b[0mdf\u001b[0m\u001b[1;33m=\u001b[0m\u001b[0mtrans\u001b[0m\u001b[1;33m.\u001b[0m\u001b[0mgroupby\u001b[0m\u001b[1;33m(\u001b[0m\u001b[1;34m\"Card_Number\"\u001b[0m\u001b[1;33m)\u001b[0m\u001b[1;33m\u001b[0m\u001b[0m\n\u001b[1;32m----> 2\u001b[1;33m \u001b[0mdf\u001b[0m\u001b[1;33m.\u001b[0m\u001b[0mshow\u001b[0m\u001b[1;33m(\u001b[0m\u001b[1;33m)\u001b[0m\u001b[1;33m\u001b[0m\u001b[0m\n\u001b[0m",
      "\u001b[1;32mC:\\Anaconda2\\lib\\site-packages\\pandas\\core\\groupby.pyc\u001b[0m in \u001b[0;36m__getattr__\u001b[1;34m(self, attr)\u001b[0m\n\u001b[0;32m    549\u001b[0m \u001b[1;33m\u001b[0m\u001b[0m\n\u001b[0;32m    550\u001b[0m         raise AttributeError(\"%r object has no attribute %r\" %\n\u001b[1;32m--> 551\u001b[1;33m                              (type(self).__name__, attr))\n\u001b[0m\u001b[0;32m    552\u001b[0m \u001b[1;33m\u001b[0m\u001b[0m\n\u001b[0;32m    553\u001b[0m     \u001b[0mplot\u001b[0m \u001b[1;33m=\u001b[0m \u001b[0mproperty\u001b[0m\u001b[1;33m(\u001b[0m\u001b[0mGroupByPlot\u001b[0m\u001b[1;33m)\u001b[0m\u001b[1;33m\u001b[0m\u001b[0m\n",
      "\u001b[1;31mAttributeError\u001b[0m: 'DataFrameGroupBy' object has no attribute 'show'"
     ]
    }
   ],
   "source": [
    "df=trans.groupby(\"Card_Number\")\n",
    "df.show()"
   ]
  },
  {
   "cell_type": "code",
   "execution_count": 26,
   "metadata": {
    "collapsed": true
   },
   "outputs": [],
   "source": [
    "from math import sin, cos, sqrt, atan2, radians, ceil"
   ]
  },
  {
   "cell_type": "code",
   "execution_count": 27,
   "metadata": {
    "collapsed": false,
    "scrolled": true
   },
   "outputs": [
    {
     "name": "stderr",
     "output_type": "stream",
     "text": [
      "C:\\ProgramData\\Anaconda3\\lib\\site-packages\\ipykernel\\__main__.py:8: SettingWithCopyWarning: \n",
      "A value is trying to be set on a copy of a slice from a DataFrame\n",
      "\n",
      "See the caveats in the documentation: http://pandas.pydata.org/pandas-docs/stable/indexing.html#indexing-view-versus-copy\n",
      "C:\\ProgramData\\Anaconda3\\lib\\site-packages\\ipykernel\\__main__.py:20: SettingWithCopyWarning: \n",
      "A value is trying to be set on a copy of a slice from a DataFrame\n",
      "\n",
      "See the caveats in the documentation: http://pandas.pydata.org/pandas-docs/stable/indexing.html#indexing-view-versus-copy\n"
     ]
    }
   ],
   "source": [
    "for i in df.indices.values():\n",
    "    list=i\n",
    "    count=0\n",
    "    for j in list:\n",
    "        if count==0:\n",
    "            distance=0\n",
    "            count=count+1\n",
    "            trans.Distance[j]=distance\n",
    "        else:\n",
    "            Radius=6373.0\n",
    "            plat=radians(trans.Transaction_Latitude[j-1])\n",
    "            plong=radians(trans.Transaction_Longitude[j-1])\n",
    "            tlat=radians(trans.Transaction_Latitude[j])\n",
    "            tlong=radians(trans.Transaction_Longitude[j])\n",
    "            dlong=tlong-plong\n",
    "            dlat=tlat-plat\n",
    "            a = sin(dlat / 2)**2 + cos(plat) * cos(tlat) * sin(dlong / 2)**2\n",
    "            c = 2 * atan2(sqrt(a), sqrt(1 - a))\n",
    "            distance = Radius * c\n",
    "            trans.Distance[j]=distance\n"
   ]
  },
  {
   "cell_type": "code",
   "execution_count": 28,
   "metadata": {
    "collapsed": false
   },
   "outputs": [
    {
     "data": {
      "text/html": [
       "<div>\n",
       "<style>\n",
       "    .dataframe thead tr:only-child th {\n",
       "        text-align: right;\n",
       "    }\n",
       "\n",
       "    .dataframe thead th {\n",
       "        text-align: left;\n",
       "    }\n",
       "\n",
       "    .dataframe tbody tr th {\n",
       "        vertical-align: top;\n",
       "    }\n",
       "</style>\n",
       "<table border=\"1\" class=\"dataframe\">\n",
       "  <thead>\n",
       "    <tr style=\"text-align: right;\">\n",
       "      <th></th>\n",
       "      <th>Base_Location</th>\n",
       "      <th>Transaction_Location</th>\n",
       "      <th>Transaction_Latitude</th>\n",
       "      <th>Transaction_Longitude</th>\n",
       "      <th>Distance</th>\n",
       "    </tr>\n",
       "  </thead>\n",
       "  <tbody>\n",
       "    <tr>\n",
       "      <th>0</th>\n",
       "      <td>Chennai</td>\n",
       "      <td>Chennai</td>\n",
       "      <td>13.08268</td>\n",
       "      <td>80.27072</td>\n",
       "      <td>0.000000</td>\n",
       "    </tr>\n",
       "    <tr>\n",
       "      <th>1</th>\n",
       "      <td>Chennai</td>\n",
       "      <td>Mumbai</td>\n",
       "      <td>19.07598</td>\n",
       "      <td>72.87766</td>\n",
       "      <td>1033.427783</td>\n",
       "    </tr>\n",
       "    <tr>\n",
       "      <th>2</th>\n",
       "      <td>Chennai</td>\n",
       "      <td>Delhi</td>\n",
       "      <td>28.70406</td>\n",
       "      <td>77.10249</td>\n",
       "      <td>1153.602425</td>\n",
       "    </tr>\n",
       "    <tr>\n",
       "      <th>3</th>\n",
       "      <td>Chennai</td>\n",
       "      <td>Kolkata</td>\n",
       "      <td>22.57265</td>\n",
       "      <td>88.36390</td>\n",
       "      <td>1318.162935</td>\n",
       "    </tr>\n",
       "    <tr>\n",
       "      <th>4</th>\n",
       "      <td>Chennai</td>\n",
       "      <td>Bangalore</td>\n",
       "      <td>12.97160</td>\n",
       "      <td>77.59456</td>\n",
       "      <td>1561.193319</td>\n",
       "    </tr>\n",
       "    <tr>\n",
       "      <th>5</th>\n",
       "      <td>Chennai</td>\n",
       "      <td>Hyderabad</td>\n",
       "      <td>17.38504</td>\n",
       "      <td>78.48667</td>\n",
       "      <td>500.154771</td>\n",
       "    </tr>\n",
       "    <tr>\n",
       "      <th>6</th>\n",
       "      <td>Chennai</td>\n",
       "      <td>Ahmedabad</td>\n",
       "      <td>23.02251</td>\n",
       "      <td>72.57136</td>\n",
       "      <td>879.772584</td>\n",
       "    </tr>\n",
       "    <tr>\n",
       "      <th>7</th>\n",
       "      <td>Chennai</td>\n",
       "      <td>Pune</td>\n",
       "      <td>18.52043</td>\n",
       "      <td>73.85674</td>\n",
       "      <td>518.288725</td>\n",
       "    </tr>\n",
       "    <tr>\n",
       "      <th>8</th>\n",
       "      <td>Chennai</td>\n",
       "      <td>Mysore</td>\n",
       "      <td>12.29581</td>\n",
       "      <td>76.63938</td>\n",
       "      <td>753.852598</td>\n",
       "    </tr>\n",
       "    <tr>\n",
       "      <th>9</th>\n",
       "      <td>Chennai</td>\n",
       "      <td>Surat</td>\n",
       "      <td>21.17024</td>\n",
       "      <td>72.83106</td>\n",
       "      <td>1067.008614</td>\n",
       "    </tr>\n",
       "    <tr>\n",
       "      <th>10</th>\n",
       "      <td>Bangalore</td>\n",
       "      <td>Chennai</td>\n",
       "      <td>13.08268</td>\n",
       "      <td>80.27072</td>\n",
       "      <td>0.000000</td>\n",
       "    </tr>\n",
       "    <tr>\n",
       "      <th>11</th>\n",
       "      <td>Bangalore</td>\n",
       "      <td>Mumbai</td>\n",
       "      <td>19.07598</td>\n",
       "      <td>72.87766</td>\n",
       "      <td>1033.427783</td>\n",
       "    </tr>\n",
       "    <tr>\n",
       "      <th>12</th>\n",
       "      <td>Bangalore</td>\n",
       "      <td>Delhi</td>\n",
       "      <td>28.70406</td>\n",
       "      <td>77.10249</td>\n",
       "      <td>1153.602425</td>\n",
       "    </tr>\n",
       "    <tr>\n",
       "      <th>13</th>\n",
       "      <td>Bangalore</td>\n",
       "      <td>Kolkata</td>\n",
       "      <td>22.57265</td>\n",
       "      <td>88.36390</td>\n",
       "      <td>1318.162935</td>\n",
       "    </tr>\n",
       "    <tr>\n",
       "      <th>14</th>\n",
       "      <td>Bangalore</td>\n",
       "      <td>Bangalore</td>\n",
       "      <td>12.97160</td>\n",
       "      <td>77.59456</td>\n",
       "      <td>1561.193319</td>\n",
       "    </tr>\n",
       "    <tr>\n",
       "      <th>15</th>\n",
       "      <td>Bangalore</td>\n",
       "      <td>Hyderabad</td>\n",
       "      <td>17.38504</td>\n",
       "      <td>78.48667</td>\n",
       "      <td>500.154771</td>\n",
       "    </tr>\n",
       "    <tr>\n",
       "      <th>16</th>\n",
       "      <td>Bangalore</td>\n",
       "      <td>Ahmedabad</td>\n",
       "      <td>23.02251</td>\n",
       "      <td>72.57136</td>\n",
       "      <td>879.772584</td>\n",
       "    </tr>\n",
       "    <tr>\n",
       "      <th>17</th>\n",
       "      <td>Bangalore</td>\n",
       "      <td>Pune</td>\n",
       "      <td>18.52043</td>\n",
       "      <td>73.85674</td>\n",
       "      <td>518.288725</td>\n",
       "    </tr>\n",
       "    <tr>\n",
       "      <th>18</th>\n",
       "      <td>Bangalore</td>\n",
       "      <td>Mysore</td>\n",
       "      <td>12.29581</td>\n",
       "      <td>76.63938</td>\n",
       "      <td>753.852598</td>\n",
       "    </tr>\n",
       "    <tr>\n",
       "      <th>19</th>\n",
       "      <td>Bangalore</td>\n",
       "      <td>Surat</td>\n",
       "      <td>21.17024</td>\n",
       "      <td>72.83106</td>\n",
       "      <td>1067.008614</td>\n",
       "    </tr>\n",
       "  </tbody>\n",
       "</table>\n",
       "</div>"
      ],
      "text/plain": [
       "   Base_Location Transaction_Location  Transaction_Latitude  \\\n",
       "0        Chennai              Chennai              13.08268   \n",
       "1        Chennai               Mumbai              19.07598   \n",
       "2        Chennai                Delhi              28.70406   \n",
       "3        Chennai              Kolkata              22.57265   \n",
       "4        Chennai            Bangalore              12.97160   \n",
       "5        Chennai            Hyderabad              17.38504   \n",
       "6        Chennai            Ahmedabad              23.02251   \n",
       "7        Chennai                 Pune              18.52043   \n",
       "8        Chennai               Mysore              12.29581   \n",
       "9        Chennai                Surat              21.17024   \n",
       "10     Bangalore              Chennai              13.08268   \n",
       "11     Bangalore               Mumbai              19.07598   \n",
       "12     Bangalore                Delhi              28.70406   \n",
       "13     Bangalore              Kolkata              22.57265   \n",
       "14     Bangalore            Bangalore              12.97160   \n",
       "15     Bangalore            Hyderabad              17.38504   \n",
       "16     Bangalore            Ahmedabad              23.02251   \n",
       "17     Bangalore                 Pune              18.52043   \n",
       "18     Bangalore               Mysore              12.29581   \n",
       "19     Bangalore                Surat              21.17024   \n",
       "\n",
       "    Transaction_Longitude     Distance  \n",
       "0                80.27072     0.000000  \n",
       "1                72.87766  1033.427783  \n",
       "2                77.10249  1153.602425  \n",
       "3                88.36390  1318.162935  \n",
       "4                77.59456  1561.193319  \n",
       "5                78.48667   500.154771  \n",
       "6                72.57136   879.772584  \n",
       "7                73.85674   518.288725  \n",
       "8                76.63938   753.852598  \n",
       "9                72.83106  1067.008614  \n",
       "10               80.27072     0.000000  \n",
       "11               72.87766  1033.427783  \n",
       "12               77.10249  1153.602425  \n",
       "13               88.36390  1318.162935  \n",
       "14               77.59456  1561.193319  \n",
       "15               78.48667   500.154771  \n",
       "16               72.57136   879.772584  \n",
       "17               73.85674   518.288725  \n",
       "18               76.63938   753.852598  \n",
       "19               72.83106  1067.008614  "
      ]
     },
     "execution_count": 28,
     "metadata": {},
     "output_type": "execute_result"
    }
   ],
   "source": [
    "list_f=[\"Base_Location\",\"Transaction_Location\",\"Transaction_Latitude\",\"Transaction_Longitude\",\"Distance\"]\n",
    "trans[list_f][:20]"
   ]
  },
  {
   "cell_type": "markdown",
   "metadata": {
    "collapsed": true
   },
   "source": [
    "**Code to Calculate the Avg # of Transactions**"
   ]
  },
  {
   "cell_type": "code",
   "execution_count": 29,
   "metadata": {
    "collapsed": false
   },
   "outputs": [
    {
     "name": "stderr",
     "output_type": "stream",
     "text": [
      "C:\\ProgramData\\Anaconda3\\lib\\site-packages\\ipykernel\\__main__.py:10: SettingWithCopyWarning: \n",
      "A value is trying to be set on a copy of a slice from a DataFrame\n",
      "\n",
      "See the caveats in the documentation: http://pandas.pydata.org/pandas-docs/stable/indexing.html#indexing-view-versus-copy\n",
      "C:\\ProgramData\\Anaconda3\\lib\\site-packages\\ipykernel\\__main__.py:4: SettingWithCopyWarning: \n",
      "A value is trying to be set on a copy of a slice from a DataFrame\n",
      "\n",
      "See the caveats in the documentation: http://pandas.pydata.org/pandas-docs/stable/indexing.html#indexing-view-versus-copy\n",
      "C:\\ProgramData\\Anaconda3\\lib\\site-packages\\ipykernel\\__main__.py:6: SettingWithCopyWarning: \n",
      "A value is trying to be set on a copy of a slice from a DataFrame\n",
      "\n",
      "See the caveats in the documentation: http://pandas.pydata.org/pandas-docs/stable/indexing.html#indexing-view-versus-copy\n"
     ]
    }
   ],
   "source": [
    "trans[\"Quarter\"]=\"\"\n",
    "for j in range(0,len(trans)):\n",
    "    if trans[\"Transaction_Month\"][j] in (4,5,6):\n",
    "        trans[\"Quarter\"][j]=\"Q1\"\n",
    "    elif trans[\"Transaction_Month\"][j] in (7,8,9):\n",
    "        trans[\"Quarter\"][j]=\"Q2\"\n",
    "    elif trans[\"Transaction_Month\"][j] in (10,11,12):\n",
    "        trans[\"Quarter\"][j]=\"Q3\"  \n",
    "    else:\n",
    "        trans[\"Quarter\"][j]=\"Q4\"\n",
    "            \n",
    "    "
   ]
  },
  {
   "cell_type": "code",
   "execution_count": 30,
   "metadata": {
    "collapsed": false
   },
   "outputs": [
    {
     "data": {
      "text/html": [
       "<div>\n",
       "<style>\n",
       "    .dataframe thead tr:only-child th {\n",
       "        text-align: right;\n",
       "    }\n",
       "\n",
       "    .dataframe thead th {\n",
       "        text-align: left;\n",
       "    }\n",
       "\n",
       "    .dataframe tbody tr th {\n",
       "        vertical-align: top;\n",
       "    }\n",
       "</style>\n",
       "<table border=\"1\" class=\"dataframe\">\n",
       "  <thead>\n",
       "    <tr style=\"text-align: right;\">\n",
       "      <th></th>\n",
       "      <th>Quarter</th>\n",
       "      <th>Transaction_Timestamp</th>\n",
       "      <th>Transaction_Month</th>\n",
       "    </tr>\n",
       "  </thead>\n",
       "  <tbody>\n",
       "    <tr>\n",
       "      <th>0</th>\n",
       "      <td>Q4</td>\n",
       "      <td>2017-03-06 12:42:00</td>\n",
       "      <td>3</td>\n",
       "    </tr>\n",
       "    <tr>\n",
       "      <th>1</th>\n",
       "      <td>Q4</td>\n",
       "      <td>2017-03-07 06:25:00</td>\n",
       "      <td>3</td>\n",
       "    </tr>\n",
       "    <tr>\n",
       "      <th>2</th>\n",
       "      <td>Q4</td>\n",
       "      <td>2017-03-08 04:08:00</td>\n",
       "      <td>3</td>\n",
       "    </tr>\n",
       "    <tr>\n",
       "      <th>3</th>\n",
       "      <td>Q4</td>\n",
       "      <td>2017-03-08 09:06:00</td>\n",
       "      <td>3</td>\n",
       "    </tr>\n",
       "    <tr>\n",
       "      <th>4</th>\n",
       "      <td>Q4</td>\n",
       "      <td>2017-03-09 00:10:00</td>\n",
       "      <td>3</td>\n",
       "    </tr>\n",
       "    <tr>\n",
       "      <th>5</th>\n",
       "      <td>Q4</td>\n",
       "      <td>2017-03-11 00:41:00</td>\n",
       "      <td>3</td>\n",
       "    </tr>\n",
       "    <tr>\n",
       "      <th>6</th>\n",
       "      <td>Q4</td>\n",
       "      <td>2017-03-11 05:04:00</td>\n",
       "      <td>3</td>\n",
       "    </tr>\n",
       "    <tr>\n",
       "      <th>7</th>\n",
       "      <td>Q4</td>\n",
       "      <td>2017-03-12 04:14:00</td>\n",
       "      <td>3</td>\n",
       "    </tr>\n",
       "    <tr>\n",
       "      <th>8</th>\n",
       "      <td>Q4</td>\n",
       "      <td>2017-03-13 01:46:00</td>\n",
       "      <td>3</td>\n",
       "    </tr>\n",
       "    <tr>\n",
       "      <th>9</th>\n",
       "      <td>Q4</td>\n",
       "      <td>2017-03-15 02:40:00</td>\n",
       "      <td>3</td>\n",
       "    </tr>\n",
       "    <tr>\n",
       "      <th>10</th>\n",
       "      <td>Q4</td>\n",
       "      <td>2017-03-06 02:17:00</td>\n",
       "      <td>3</td>\n",
       "    </tr>\n",
       "    <tr>\n",
       "      <th>11</th>\n",
       "      <td>Q4</td>\n",
       "      <td>2017-03-07 05:17:00</td>\n",
       "      <td>3</td>\n",
       "    </tr>\n",
       "    <tr>\n",
       "      <th>12</th>\n",
       "      <td>Q4</td>\n",
       "      <td>2017-03-07 21:01:00</td>\n",
       "      <td>3</td>\n",
       "    </tr>\n",
       "    <tr>\n",
       "      <th>13</th>\n",
       "      <td>Q4</td>\n",
       "      <td>2017-03-10 05:46:00</td>\n",
       "      <td>3</td>\n",
       "    </tr>\n",
       "    <tr>\n",
       "      <th>14</th>\n",
       "      <td>Q4</td>\n",
       "      <td>2017-03-10 17:26:00</td>\n",
       "      <td>3</td>\n",
       "    </tr>\n",
       "    <tr>\n",
       "      <th>15</th>\n",
       "      <td>Q4</td>\n",
       "      <td>2017-03-11 04:21:00</td>\n",
       "      <td>3</td>\n",
       "    </tr>\n",
       "    <tr>\n",
       "      <th>16</th>\n",
       "      <td>Q4</td>\n",
       "      <td>2017-03-12 00:30:00</td>\n",
       "      <td>3</td>\n",
       "    </tr>\n",
       "  </tbody>\n",
       "</table>\n",
       "</div>"
      ],
      "text/plain": [
       "   Quarter Transaction_Timestamp  Transaction_Month\n",
       "0       Q4   2017-03-06 12:42:00                  3\n",
       "1       Q4   2017-03-07 06:25:00                  3\n",
       "2       Q4   2017-03-08 04:08:00                  3\n",
       "3       Q4   2017-03-08 09:06:00                  3\n",
       "4       Q4   2017-03-09 00:10:00                  3\n",
       "5       Q4   2017-03-11 00:41:00                  3\n",
       "6       Q4   2017-03-11 05:04:00                  3\n",
       "7       Q4   2017-03-12 04:14:00                  3\n",
       "8       Q4   2017-03-13 01:46:00                  3\n",
       "9       Q4   2017-03-15 02:40:00                  3\n",
       "10      Q4   2017-03-06 02:17:00                  3\n",
       "11      Q4   2017-03-07 05:17:00                  3\n",
       "12      Q4   2017-03-07 21:01:00                  3\n",
       "13      Q4   2017-03-10 05:46:00                  3\n",
       "14      Q4   2017-03-10 17:26:00                  3\n",
       "15      Q4   2017-03-11 04:21:00                  3\n",
       "16      Q4   2017-03-12 00:30:00                  3"
      ]
     },
     "execution_count": 30,
     "metadata": {},
     "output_type": "execute_result"
    }
   ],
   "source": [
    "list_e=[\"Quarter\",\"Transaction_Timestamp\",\"Transaction_Month\"]\n",
    "trans[list_e][0:17]"
   ]
  },
  {
   "cell_type": "code",
   "execution_count": 31,
   "metadata": {
    "collapsed": true
   },
   "outputs": [],
   "source": [
    "dr=trans.groupby([\"Card_Number\",\"Quarter\",\"Transaction_Year\"])"
   ]
  },
  {
   "cell_type": "code",
   "execution_count": 32,
   "metadata": {
    "collapsed": true
   },
   "outputs": [],
   "source": [
    "#trans=trans.rename(columns={\"Avg_No_of_Transactions(Quarterly)\":\"Avg_No_of_Transactions\"})"
   ]
  },
  {
   "cell_type": "code",
   "execution_count": 33,
   "metadata": {
    "collapsed": false
   },
   "outputs": [
    {
     "name": "stderr",
     "output_type": "stream",
     "text": [
      "C:\\ProgramData\\Anaconda3\\lib\\site-packages\\ipykernel\\__main__.py:5: SettingWithCopyWarning: \n",
      "A value is trying to be set on a copy of a slice from a DataFrame\n",
      "\n",
      "See the caveats in the documentation: http://pandas.pydata.org/pandas-docs/stable/indexing.html#indexing-view-versus-copy\n"
     ]
    }
   ],
   "source": [
    "for i in dr.indices.values():\n",
    "    list=i\n",
    "    for j in list:\n",
    "        k=len(list)\n",
    "        trans[\"Avg_No_of_Transactions\"][j]= ceil(k/3)"
   ]
  },
  {
   "cell_type": "code",
   "execution_count": 34,
   "metadata": {
    "collapsed": false
   },
   "outputs": [
    {
     "data": {
      "text/html": [
       "<div>\n",
       "<style>\n",
       "    .dataframe thead tr:only-child th {\n",
       "        text-align: right;\n",
       "    }\n",
       "\n",
       "    .dataframe thead th {\n",
       "        text-align: left;\n",
       "    }\n",
       "\n",
       "    .dataframe tbody tr th {\n",
       "        vertical-align: top;\n",
       "    }\n",
       "</style>\n",
       "<table border=\"1\" class=\"dataframe\">\n",
       "  <thead>\n",
       "    <tr style=\"text-align: right;\">\n",
       "      <th></th>\n",
       "      <th>Card_Number</th>\n",
       "      <th>Transaction_Timestamp</th>\n",
       "      <th>Avg_No_of_Transactions</th>\n",
       "    </tr>\n",
       "  </thead>\n",
       "  <tbody>\n",
       "    <tr>\n",
       "      <th>0</th>\n",
       "      <td>7470505228653560</td>\n",
       "      <td>2017-03-06 12:42:00</td>\n",
       "      <td>4</td>\n",
       "    </tr>\n",
       "    <tr>\n",
       "      <th>1</th>\n",
       "      <td>7470505228653560</td>\n",
       "      <td>2017-03-07 06:25:00</td>\n",
       "      <td>4</td>\n",
       "    </tr>\n",
       "    <tr>\n",
       "      <th>2</th>\n",
       "      <td>7470505228653560</td>\n",
       "      <td>2017-03-08 04:08:00</td>\n",
       "      <td>4</td>\n",
       "    </tr>\n",
       "    <tr>\n",
       "      <th>3</th>\n",
       "      <td>7470505228653560</td>\n",
       "      <td>2017-03-08 09:06:00</td>\n",
       "      <td>4</td>\n",
       "    </tr>\n",
       "    <tr>\n",
       "      <th>4</th>\n",
       "      <td>7470505228653560</td>\n",
       "      <td>2017-03-09 00:10:00</td>\n",
       "      <td>4</td>\n",
       "    </tr>\n",
       "    <tr>\n",
       "      <th>5</th>\n",
       "      <td>7470505228653560</td>\n",
       "      <td>2017-03-11 00:41:00</td>\n",
       "      <td>4</td>\n",
       "    </tr>\n",
       "    <tr>\n",
       "      <th>6</th>\n",
       "      <td>7470505228653560</td>\n",
       "      <td>2017-03-11 05:04:00</td>\n",
       "      <td>4</td>\n",
       "    </tr>\n",
       "    <tr>\n",
       "      <th>7</th>\n",
       "      <td>7470505228653560</td>\n",
       "      <td>2017-03-12 04:14:00</td>\n",
       "      <td>4</td>\n",
       "    </tr>\n",
       "    <tr>\n",
       "      <th>8</th>\n",
       "      <td>7470505228653560</td>\n",
       "      <td>2017-03-13 01:46:00</td>\n",
       "      <td>4</td>\n",
       "    </tr>\n",
       "    <tr>\n",
       "      <th>9</th>\n",
       "      <td>7470505228653560</td>\n",
       "      <td>2017-03-15 02:40:00</td>\n",
       "      <td>4</td>\n",
       "    </tr>\n",
       "    <tr>\n",
       "      <th>10</th>\n",
       "      <td>6562037694752940</td>\n",
       "      <td>2017-03-06 02:17:00</td>\n",
       "      <td>4</td>\n",
       "    </tr>\n",
       "    <tr>\n",
       "      <th>11</th>\n",
       "      <td>6562037694752940</td>\n",
       "      <td>2017-03-07 05:17:00</td>\n",
       "      <td>4</td>\n",
       "    </tr>\n",
       "    <tr>\n",
       "      <th>12</th>\n",
       "      <td>6562037694752940</td>\n",
       "      <td>2017-03-07 21:01:00</td>\n",
       "      <td>4</td>\n",
       "    </tr>\n",
       "    <tr>\n",
       "      <th>13</th>\n",
       "      <td>6562037694752940</td>\n",
       "      <td>2017-03-10 05:46:00</td>\n",
       "      <td>4</td>\n",
       "    </tr>\n",
       "    <tr>\n",
       "      <th>14</th>\n",
       "      <td>6562037694752940</td>\n",
       "      <td>2017-03-10 17:26:00</td>\n",
       "      <td>4</td>\n",
       "    </tr>\n",
       "    <tr>\n",
       "      <th>15</th>\n",
       "      <td>6562037694752940</td>\n",
       "      <td>2017-03-11 04:21:00</td>\n",
       "      <td>4</td>\n",
       "    </tr>\n",
       "    <tr>\n",
       "      <th>16</th>\n",
       "      <td>6562037694752940</td>\n",
       "      <td>2017-03-12 00:30:00</td>\n",
       "      <td>4</td>\n",
       "    </tr>\n",
       "  </tbody>\n",
       "</table>\n",
       "</div>"
      ],
      "text/plain": [
       "         Card_Number Transaction_Timestamp  Avg_No_of_Transactions\n",
       "0   7470505228653560   2017-03-06 12:42:00                       4\n",
       "1   7470505228653560   2017-03-07 06:25:00                       4\n",
       "2   7470505228653560   2017-03-08 04:08:00                       4\n",
       "3   7470505228653560   2017-03-08 09:06:00                       4\n",
       "4   7470505228653560   2017-03-09 00:10:00                       4\n",
       "5   7470505228653560   2017-03-11 00:41:00                       4\n",
       "6   7470505228653560   2017-03-11 05:04:00                       4\n",
       "7   7470505228653560   2017-03-12 04:14:00                       4\n",
       "8   7470505228653560   2017-03-13 01:46:00                       4\n",
       "9   7470505228653560   2017-03-15 02:40:00                       4\n",
       "10  6562037694752940   2017-03-06 02:17:00                       4\n",
       "11  6562037694752940   2017-03-07 05:17:00                       4\n",
       "12  6562037694752940   2017-03-07 21:01:00                       4\n",
       "13  6562037694752940   2017-03-10 05:46:00                       4\n",
       "14  6562037694752940   2017-03-10 17:26:00                       4\n",
       "15  6562037694752940   2017-03-11 04:21:00                       4\n",
       "16  6562037694752940   2017-03-12 00:30:00                       4"
      ]
     },
     "execution_count": 34,
     "metadata": {},
     "output_type": "execute_result"
    }
   ],
   "source": [
    "list_f=[\"Card_Number\",\"Transaction_Timestamp\",\"Avg_No_of_Transactions\"]\n",
    "trans[list_f][:17]"
   ]
  },
  {
   "cell_type": "markdown",
   "metadata": {},
   "source": [
    "**Code to Calculate Quarterly Spending**"
   ]
  },
  {
   "cell_type": "code",
   "execution_count": 35,
   "metadata": {
    "collapsed": false
   },
   "outputs": [],
   "source": [
    "dr=trans.groupby([\"Card_Number\",\"Quarter\",\"Transaction_Year\"])\n",
    "#trans=trans.rename(columns={\"Quarterly_Ending_Balance\":\"Quarterly_Spending\"})"
   ]
  },
  {
   "cell_type": "code",
   "execution_count": 36,
   "metadata": {
    "collapsed": false
   },
   "outputs": [
    {
     "name": "stderr",
     "output_type": "stream",
     "text": [
      "C:\\ProgramData\\Anaconda3\\lib\\site-packages\\ipykernel\\__main__.py:8: SettingWithCopyWarning: \n",
      "A value is trying to be set on a copy of a slice from a DataFrame\n",
      "\n",
      "See the caveats in the documentation: http://pandas.pydata.org/pandas-docs/stable/indexing.html#indexing-view-versus-copy\n",
      "C:\\ProgramData\\Anaconda3\\lib\\site-packages\\ipykernel\\__main__.py:10: SettingWithCopyWarning: \n",
      "A value is trying to be set on a copy of a slice from a DataFrame\n",
      "\n",
      "See the caveats in the documentation: http://pandas.pydata.org/pandas-docs/stable/indexing.html#indexing-view-versus-copy\n"
     ]
    }
   ],
   "source": [
    "trans[\"Quarterly_Spending\"]=0\n",
    "for i in dr.indices.values():\n",
    "    list=i\n",
    "    qtr_transaction_amount=0\n",
    "    for j in list:\n",
    "        l=list[-1]\n",
    "        qtr_transaction_amount=qtr_transaction_amount+trans.Transaction_Amount[j]\n",
    "        trans[\"Quarterly_Spending\"][l]=qtr_transaction_amount\n",
    "    for j in list:\n",
    "        trans[\"Quarterly_Spending\"][j]=qtr_transaction_amount\n",
    "    "
   ]
  },
  {
   "cell_type": "code",
   "execution_count": 37,
   "metadata": {
    "collapsed": false
   },
   "outputs": [
    {
     "data": {
      "text/html": [
       "<div>\n",
       "<style>\n",
       "    .dataframe thead tr:only-child th {\n",
       "        text-align: right;\n",
       "    }\n",
       "\n",
       "    .dataframe thead th {\n",
       "        text-align: left;\n",
       "    }\n",
       "\n",
       "    .dataframe tbody tr th {\n",
       "        vertical-align: top;\n",
       "    }\n",
       "</style>\n",
       "<table border=\"1\" class=\"dataframe\">\n",
       "  <thead>\n",
       "    <tr style=\"text-align: right;\">\n",
       "      <th></th>\n",
       "      <th>Card_Number</th>\n",
       "      <th>Transaction_Timestamp</th>\n",
       "      <th>Quarter</th>\n",
       "      <th>Transaction_Amount</th>\n",
       "      <th>Current_Balance</th>\n",
       "    </tr>\n",
       "  </thead>\n",
       "  <tbody>\n",
       "    <tr>\n",
       "      <th>0</th>\n",
       "      <td>7470505228653560</td>\n",
       "      <td>2017-03-06 12:42:00</td>\n",
       "      <td>Q4</td>\n",
       "      <td>7705</td>\n",
       "      <td>342295</td>\n",
       "    </tr>\n",
       "    <tr>\n",
       "      <th>1</th>\n",
       "      <td>7470505228653560</td>\n",
       "      <td>2017-03-07 06:25:00</td>\n",
       "      <td>Q4</td>\n",
       "      <td>6177</td>\n",
       "      <td>336118</td>\n",
       "    </tr>\n",
       "    <tr>\n",
       "      <th>2</th>\n",
       "      <td>7470505228653560</td>\n",
       "      <td>2017-03-08 04:08:00</td>\n",
       "      <td>Q4</td>\n",
       "      <td>8386</td>\n",
       "      <td>327732</td>\n",
       "    </tr>\n",
       "    <tr>\n",
       "      <th>3</th>\n",
       "      <td>7470505228653560</td>\n",
       "      <td>2017-03-08 09:06:00</td>\n",
       "      <td>Q4</td>\n",
       "      <td>6773</td>\n",
       "      <td>320959</td>\n",
       "    </tr>\n",
       "    <tr>\n",
       "      <th>4</th>\n",
       "      <td>7470505228653560</td>\n",
       "      <td>2017-03-09 00:10:00</td>\n",
       "      <td>Q4</td>\n",
       "      <td>13394</td>\n",
       "      <td>307565</td>\n",
       "    </tr>\n",
       "    <tr>\n",
       "      <th>5</th>\n",
       "      <td>7470505228653560</td>\n",
       "      <td>2017-03-11 00:41:00</td>\n",
       "      <td>Q4</td>\n",
       "      <td>5105</td>\n",
       "      <td>302460</td>\n",
       "    </tr>\n",
       "    <tr>\n",
       "      <th>6</th>\n",
       "      <td>7470505228653560</td>\n",
       "      <td>2017-03-11 05:04:00</td>\n",
       "      <td>Q4</td>\n",
       "      <td>7972</td>\n",
       "      <td>294488</td>\n",
       "    </tr>\n",
       "    <tr>\n",
       "      <th>7</th>\n",
       "      <td>7470505228653560</td>\n",
       "      <td>2017-03-12 04:14:00</td>\n",
       "      <td>Q4</td>\n",
       "      <td>8561</td>\n",
       "      <td>285927</td>\n",
       "    </tr>\n",
       "    <tr>\n",
       "      <th>8</th>\n",
       "      <td>7470505228653560</td>\n",
       "      <td>2017-03-13 01:46:00</td>\n",
       "      <td>Q4</td>\n",
       "      <td>8992</td>\n",
       "      <td>276935</td>\n",
       "    </tr>\n",
       "    <tr>\n",
       "      <th>9</th>\n",
       "      <td>7470505228653560</td>\n",
       "      <td>2017-03-15 02:40:00</td>\n",
       "      <td>Q4</td>\n",
       "      <td>10408</td>\n",
       "      <td>266527</td>\n",
       "    </tr>\n",
       "    <tr>\n",
       "      <th>10</th>\n",
       "      <td>6562037694752940</td>\n",
       "      <td>2017-03-06 02:17:00</td>\n",
       "      <td>Q4</td>\n",
       "      <td>3015</td>\n",
       "      <td>221985</td>\n",
       "    </tr>\n",
       "    <tr>\n",
       "      <th>11</th>\n",
       "      <td>6562037694752940</td>\n",
       "      <td>2017-03-07 05:17:00</td>\n",
       "      <td>Q4</td>\n",
       "      <td>6045</td>\n",
       "      <td>215940</td>\n",
       "    </tr>\n",
       "    <tr>\n",
       "      <th>12</th>\n",
       "      <td>6562037694752940</td>\n",
       "      <td>2017-03-07 21:01:00</td>\n",
       "      <td>Q4</td>\n",
       "      <td>2800</td>\n",
       "      <td>213140</td>\n",
       "    </tr>\n",
       "    <tr>\n",
       "      <th>13</th>\n",
       "      <td>6562037694752940</td>\n",
       "      <td>2017-03-10 05:46:00</td>\n",
       "      <td>Q4</td>\n",
       "      <td>8328</td>\n",
       "      <td>204812</td>\n",
       "    </tr>\n",
       "    <tr>\n",
       "      <th>14</th>\n",
       "      <td>6562037694752940</td>\n",
       "      <td>2017-03-10 17:26:00</td>\n",
       "      <td>Q4</td>\n",
       "      <td>7707</td>\n",
       "      <td>197105</td>\n",
       "    </tr>\n",
       "    <tr>\n",
       "      <th>15</th>\n",
       "      <td>6562037694752940</td>\n",
       "      <td>2017-03-11 04:21:00</td>\n",
       "      <td>Q4</td>\n",
       "      <td>1928</td>\n",
       "      <td>195177</td>\n",
       "    </tr>\n",
       "    <tr>\n",
       "      <th>16</th>\n",
       "      <td>6562037694752940</td>\n",
       "      <td>2017-03-12 00:30:00</td>\n",
       "      <td>Q4</td>\n",
       "      <td>7791</td>\n",
       "      <td>187386</td>\n",
       "    </tr>\n",
       "  </tbody>\n",
       "</table>\n",
       "</div>"
      ],
      "text/plain": [
       "         Card_Number Transaction_Timestamp Quarter  Transaction_Amount  \\\n",
       "0   7470505228653560   2017-03-06 12:42:00      Q4                7705   \n",
       "1   7470505228653560   2017-03-07 06:25:00      Q4                6177   \n",
       "2   7470505228653560   2017-03-08 04:08:00      Q4                8386   \n",
       "3   7470505228653560   2017-03-08 09:06:00      Q4                6773   \n",
       "4   7470505228653560   2017-03-09 00:10:00      Q4               13394   \n",
       "5   7470505228653560   2017-03-11 00:41:00      Q4                5105   \n",
       "6   7470505228653560   2017-03-11 05:04:00      Q4                7972   \n",
       "7   7470505228653560   2017-03-12 04:14:00      Q4                8561   \n",
       "8   7470505228653560   2017-03-13 01:46:00      Q4                8992   \n",
       "9   7470505228653560   2017-03-15 02:40:00      Q4               10408   \n",
       "10  6562037694752940   2017-03-06 02:17:00      Q4                3015   \n",
       "11  6562037694752940   2017-03-07 05:17:00      Q4                6045   \n",
       "12  6562037694752940   2017-03-07 21:01:00      Q4                2800   \n",
       "13  6562037694752940   2017-03-10 05:46:00      Q4                8328   \n",
       "14  6562037694752940   2017-03-10 17:26:00      Q4                7707   \n",
       "15  6562037694752940   2017-03-11 04:21:00      Q4                1928   \n",
       "16  6562037694752940   2017-03-12 00:30:00      Q4                7791   \n",
       "\n",
       "    Current_Balance  \n",
       "0            342295  \n",
       "1            336118  \n",
       "2            327732  \n",
       "3            320959  \n",
       "4            307565  \n",
       "5            302460  \n",
       "6            294488  \n",
       "7            285927  \n",
       "8            276935  \n",
       "9            266527  \n",
       "10           221985  \n",
       "11           215940  \n",
       "12           213140  \n",
       "13           204812  \n",
       "14           197105  \n",
       "15           195177  \n",
       "16           187386  "
      ]
     },
     "execution_count": 37,
     "metadata": {},
     "output_type": "execute_result"
    }
   ],
   "source": [
    "list_f=[\"Card_Number\",\"Transaction_Timestamp\",\"Quarter\",\"Transaction_Amount\",\"Current_Balance\"]\n",
    "trans[list_f][0:17]"
   ]
  },
  {
   "cell_type": "code",
   "execution_count": 38,
   "metadata": {
    "collapsed": false
   },
   "outputs": [
    {
     "data": {
      "text/html": [
       "<div>\n",
       "<style>\n",
       "    .dataframe thead tr:only-child th {\n",
       "        text-align: right;\n",
       "    }\n",
       "\n",
       "    .dataframe thead th {\n",
       "        text-align: left;\n",
       "    }\n",
       "\n",
       "    .dataframe tbody tr th {\n",
       "        vertical-align: top;\n",
       "    }\n",
       "</style>\n",
       "<table border=\"1\" class=\"dataframe\">\n",
       "  <thead>\n",
       "    <tr style=\"text-align: right;\">\n",
       "      <th></th>\n",
       "      <th>Card_Number</th>\n",
       "      <th>Transaction_Timestamp</th>\n",
       "      <th>Quarter</th>\n",
       "      <th>Transaction_Amount</th>\n",
       "      <th>Current_Balance</th>\n",
       "      <th>Quarterly_Spending</th>\n",
       "    </tr>\n",
       "  </thead>\n",
       "  <tbody>\n",
       "    <tr>\n",
       "      <th>0</th>\n",
       "      <td>7470505228653560</td>\n",
       "      <td>2017-03-06 12:42:00</td>\n",
       "      <td>Q4</td>\n",
       "      <td>7705</td>\n",
       "      <td>342295</td>\n",
       "      <td>83473</td>\n",
       "    </tr>\n",
       "    <tr>\n",
       "      <th>1</th>\n",
       "      <td>7470505228653560</td>\n",
       "      <td>2017-03-07 06:25:00</td>\n",
       "      <td>Q4</td>\n",
       "      <td>6177</td>\n",
       "      <td>336118</td>\n",
       "      <td>83473</td>\n",
       "    </tr>\n",
       "    <tr>\n",
       "      <th>2</th>\n",
       "      <td>7470505228653560</td>\n",
       "      <td>2017-03-08 04:08:00</td>\n",
       "      <td>Q4</td>\n",
       "      <td>8386</td>\n",
       "      <td>327732</td>\n",
       "      <td>83473</td>\n",
       "    </tr>\n",
       "    <tr>\n",
       "      <th>3</th>\n",
       "      <td>7470505228653560</td>\n",
       "      <td>2017-03-08 09:06:00</td>\n",
       "      <td>Q4</td>\n",
       "      <td>6773</td>\n",
       "      <td>320959</td>\n",
       "      <td>83473</td>\n",
       "    </tr>\n",
       "    <tr>\n",
       "      <th>4</th>\n",
       "      <td>7470505228653560</td>\n",
       "      <td>2017-03-09 00:10:00</td>\n",
       "      <td>Q4</td>\n",
       "      <td>13394</td>\n",
       "      <td>307565</td>\n",
       "      <td>83473</td>\n",
       "    </tr>\n",
       "    <tr>\n",
       "      <th>5</th>\n",
       "      <td>7470505228653560</td>\n",
       "      <td>2017-03-11 00:41:00</td>\n",
       "      <td>Q4</td>\n",
       "      <td>5105</td>\n",
       "      <td>302460</td>\n",
       "      <td>83473</td>\n",
       "    </tr>\n",
       "    <tr>\n",
       "      <th>6</th>\n",
       "      <td>7470505228653560</td>\n",
       "      <td>2017-03-11 05:04:00</td>\n",
       "      <td>Q4</td>\n",
       "      <td>7972</td>\n",
       "      <td>294488</td>\n",
       "      <td>83473</td>\n",
       "    </tr>\n",
       "    <tr>\n",
       "      <th>7</th>\n",
       "      <td>7470505228653560</td>\n",
       "      <td>2017-03-12 04:14:00</td>\n",
       "      <td>Q4</td>\n",
       "      <td>8561</td>\n",
       "      <td>285927</td>\n",
       "      <td>83473</td>\n",
       "    </tr>\n",
       "    <tr>\n",
       "      <th>8</th>\n",
       "      <td>7470505228653560</td>\n",
       "      <td>2017-03-13 01:46:00</td>\n",
       "      <td>Q4</td>\n",
       "      <td>8992</td>\n",
       "      <td>276935</td>\n",
       "      <td>83473</td>\n",
       "    </tr>\n",
       "    <tr>\n",
       "      <th>9</th>\n",
       "      <td>7470505228653560</td>\n",
       "      <td>2017-03-15 02:40:00</td>\n",
       "      <td>Q4</td>\n",
       "      <td>10408</td>\n",
       "      <td>266527</td>\n",
       "      <td>83473</td>\n",
       "    </tr>\n",
       "    <tr>\n",
       "      <th>10</th>\n",
       "      <td>6562037694752940</td>\n",
       "      <td>2017-03-06 02:17:00</td>\n",
       "      <td>Q4</td>\n",
       "      <td>3015</td>\n",
       "      <td>221985</td>\n",
       "      <td>48272</td>\n",
       "    </tr>\n",
       "    <tr>\n",
       "      <th>11</th>\n",
       "      <td>6562037694752940</td>\n",
       "      <td>2017-03-07 05:17:00</td>\n",
       "      <td>Q4</td>\n",
       "      <td>6045</td>\n",
       "      <td>215940</td>\n",
       "      <td>48272</td>\n",
       "    </tr>\n",
       "    <tr>\n",
       "      <th>12</th>\n",
       "      <td>6562037694752940</td>\n",
       "      <td>2017-03-07 21:01:00</td>\n",
       "      <td>Q4</td>\n",
       "      <td>2800</td>\n",
       "      <td>213140</td>\n",
       "      <td>48272</td>\n",
       "    </tr>\n",
       "    <tr>\n",
       "      <th>13</th>\n",
       "      <td>6562037694752940</td>\n",
       "      <td>2017-03-10 05:46:00</td>\n",
       "      <td>Q4</td>\n",
       "      <td>8328</td>\n",
       "      <td>204812</td>\n",
       "      <td>48272</td>\n",
       "    </tr>\n",
       "    <tr>\n",
       "      <th>14</th>\n",
       "      <td>6562037694752940</td>\n",
       "      <td>2017-03-10 17:26:00</td>\n",
       "      <td>Q4</td>\n",
       "      <td>7707</td>\n",
       "      <td>197105</td>\n",
       "      <td>48272</td>\n",
       "    </tr>\n",
       "    <tr>\n",
       "      <th>15</th>\n",
       "      <td>6562037694752940</td>\n",
       "      <td>2017-03-11 04:21:00</td>\n",
       "      <td>Q4</td>\n",
       "      <td>1928</td>\n",
       "      <td>195177</td>\n",
       "      <td>48272</td>\n",
       "    </tr>\n",
       "    <tr>\n",
       "      <th>16</th>\n",
       "      <td>6562037694752940</td>\n",
       "      <td>2017-03-12 00:30:00</td>\n",
       "      <td>Q4</td>\n",
       "      <td>7791</td>\n",
       "      <td>187386</td>\n",
       "      <td>48272</td>\n",
       "    </tr>\n",
       "    <tr>\n",
       "      <th>17</th>\n",
       "      <td>6562037694752940</td>\n",
       "      <td>2017-03-12 18:54:00</td>\n",
       "      <td>Q4</td>\n",
       "      <td>3443</td>\n",
       "      <td>183943</td>\n",
       "      <td>48272</td>\n",
       "    </tr>\n",
       "    <tr>\n",
       "      <th>18</th>\n",
       "      <td>6562037694752940</td>\n",
       "      <td>2017-03-12 19:17:00</td>\n",
       "      <td>Q4</td>\n",
       "      <td>255</td>\n",
       "      <td>183688</td>\n",
       "      <td>48272</td>\n",
       "    </tr>\n",
       "    <tr>\n",
       "      <th>19</th>\n",
       "      <td>6562037694752940</td>\n",
       "      <td>2017-03-14 08:23:00</td>\n",
       "      <td>Q4</td>\n",
       "      <td>6960</td>\n",
       "      <td>176728</td>\n",
       "      <td>48272</td>\n",
       "    </tr>\n",
       "  </tbody>\n",
       "</table>\n",
       "</div>"
      ],
      "text/plain": [
       "         Card_Number Transaction_Timestamp Quarter  Transaction_Amount  \\\n",
       "0   7470505228653560   2017-03-06 12:42:00      Q4                7705   \n",
       "1   7470505228653560   2017-03-07 06:25:00      Q4                6177   \n",
       "2   7470505228653560   2017-03-08 04:08:00      Q4                8386   \n",
       "3   7470505228653560   2017-03-08 09:06:00      Q4                6773   \n",
       "4   7470505228653560   2017-03-09 00:10:00      Q4               13394   \n",
       "5   7470505228653560   2017-03-11 00:41:00      Q4                5105   \n",
       "6   7470505228653560   2017-03-11 05:04:00      Q4                7972   \n",
       "7   7470505228653560   2017-03-12 04:14:00      Q4                8561   \n",
       "8   7470505228653560   2017-03-13 01:46:00      Q4                8992   \n",
       "9   7470505228653560   2017-03-15 02:40:00      Q4               10408   \n",
       "10  6562037694752940   2017-03-06 02:17:00      Q4                3015   \n",
       "11  6562037694752940   2017-03-07 05:17:00      Q4                6045   \n",
       "12  6562037694752940   2017-03-07 21:01:00      Q4                2800   \n",
       "13  6562037694752940   2017-03-10 05:46:00      Q4                8328   \n",
       "14  6562037694752940   2017-03-10 17:26:00      Q4                7707   \n",
       "15  6562037694752940   2017-03-11 04:21:00      Q4                1928   \n",
       "16  6562037694752940   2017-03-12 00:30:00      Q4                7791   \n",
       "17  6562037694752940   2017-03-12 18:54:00      Q4                3443   \n",
       "18  6562037694752940   2017-03-12 19:17:00      Q4                 255   \n",
       "19  6562037694752940   2017-03-14 08:23:00      Q4                6960   \n",
       "\n",
       "    Current_Balance  Quarterly_Spending  \n",
       "0            342295               83473  \n",
       "1            336118               83473  \n",
       "2            327732               83473  \n",
       "3            320959               83473  \n",
       "4            307565               83473  \n",
       "5            302460               83473  \n",
       "6            294488               83473  \n",
       "7            285927               83473  \n",
       "8            276935               83473  \n",
       "9            266527               83473  \n",
       "10           221985               48272  \n",
       "11           215940               48272  \n",
       "12           213140               48272  \n",
       "13           204812               48272  \n",
       "14           197105               48272  \n",
       "15           195177               48272  \n",
       "16           187386               48272  \n",
       "17           183943               48272  \n",
       "18           183688               48272  \n",
       "19           176728               48272  "
      ]
     },
     "execution_count": 38,
     "metadata": {},
     "output_type": "execute_result"
    }
   ],
   "source": [
    "list_f=[\"Card_Number\",\"Transaction_Timestamp\",\"Quarter\",\"Transaction_Amount\",\"Current_Balance\",\"Quarterly_Spending\"]\n",
    "trans[list_f][0:20]"
   ]
  },
  {
   "cell_type": "markdown",
   "metadata": {
    "collapsed": true
   },
   "source": [
    "**Write Data to Excel**"
   ]
  },
  {
   "cell_type": "code",
   "execution_count": 39,
   "metadata": {
    "collapsed": false
   },
   "outputs": [],
   "source": [
    "writer = pd.ExcelWriter('Transaction_DB_jupyter.xlsx')\n",
    "trans.to_excel(writer,'Sheet1')\n",
    "writer.save()"
   ]
  },
  {
   "cell_type": "markdown",
   "metadata": {
    "collapsed": true
   },
   "source": [
    "**Machine Learning Algos**"
   ]
  },
  {
   "cell_type": "markdown",
   "metadata": {},
   "source": [
    "# Random Forest"
   ]
  },
  {
   "cell_type": "code",
   "execution_count": 40,
   "metadata": {
    "collapsed": false
   },
   "outputs": [],
   "source": [
    "from sklearn.ensemble import RandomForestClassifier\n",
    "from sklearn.model_selection import train_test_split"
   ]
  },
  {
   "cell_type": "code",
   "execution_count": 41,
   "metadata": {
    "collapsed": false
   },
   "outputs": [],
   "source": [
    "list_X=['Age',\n",
    "       'Base_Latitude', 'Base_Longitude', 'Credit_limit',\n",
    "       'Avg_No_of_Transactions','Transaction_Amount',\n",
    "       'Current_Balance','Merchant_Code', 'Merchant_Profile_Score',\n",
    "       'Transaction_Time',\n",
    "       'Transaction_Latitude', 'Transaction_Longitude', 'Distance',\n",
    "       'No_of_Transactions_Last_24_hrs', 'Amount_Transacted_Last_24hrs',\n",
    "       'Transaction_Year',\n",
    "       'Transaction_Month', 'Time_Diff_in_hours',\n",
    "       'Quarterly_Spending']"
   ]
  },
  {
   "cell_type": "code",
   "execution_count": 42,
   "metadata": {
    "collapsed": false
   },
   "outputs": [],
   "source": [
    "X=trans[list_X][:]\n",
    "y=trans[\"isFraud\"]"
   ]
  },
  {
   "cell_type": "code",
   "execution_count": 43,
   "metadata": {
    "collapsed": false
   },
   "outputs": [],
   "source": [
    "X_train,X_test,y_train,y_test=train_test_split(X,y,test_size=0.3,random_state=0)"
   ]
  },
  {
   "cell_type": "code",
   "execution_count": 44,
   "metadata": {
    "collapsed": false
   },
   "outputs": [
    {
     "data": {
      "text/plain": [
       "0.99727891156462589"
      ]
     },
     "execution_count": 44,
     "metadata": {},
     "output_type": "execute_result"
    }
   ],
   "source": [
    "clf = RandomForestClassifier().fit(X_train, y_train)\n",
    "clf.score(X_train,y_train)"
   ]
  },
  {
   "cell_type": "code",
   "execution_count": 47,
   "metadata": {
    "collapsed": false
   },
   "outputs": [],
   "source": [
    "from sklearn.metrics import classification_report, confusion_matrix, precision_score\n",
    "predict_y=clf.predict(X_test)"
   ]
  },
  {
   "cell_type": "code",
   "execution_count": 48,
   "metadata": {
    "collapsed": false
   },
   "outputs": [
    {
     "name": "stderr",
     "output_type": "stream",
     "text": [
      "C:\\ProgramData\\Anaconda3\\lib\\site-packages\\sklearn\\metrics\\classification.py:1113: UndefinedMetricWarning: Precision is ill-defined and being set to 0.0 due to no predicted samples.\n",
      "  'precision', 'predicted', average, warn_for)\n"
     ]
    },
    {
     "data": {
      "text/plain": [
       "0.0"
      ]
     },
     "execution_count": 48,
     "metadata": {},
     "output_type": "execute_result"
    }
   ],
   "source": [
    "precision_score(y_test, predict_y)"
   ]
  },
  {
   "cell_type": "code",
   "execution_count": 49,
   "metadata": {
    "collapsed": false
   },
   "outputs": [
    {
     "name": "stdout",
     "output_type": "stream",
     "text": [
      "[[312   0]\n",
      " [  3   0]]\n"
     ]
    }
   ],
   "source": [
    "confusion = confusion_matrix(y_test, predict_y)\n",
    "print(confusion)"
   ]
  },
  {
   "cell_type": "code",
   "execution_count": 50,
   "metadata": {
    "collapsed": false
   },
   "outputs": [
    {
     "name": "stdout",
     "output_type": "stream",
     "text": [
      "Most frequent class (dummy classifier)\n",
      " [[312   0]\n",
      " [  3   0]]\n"
     ]
    }
   ],
   "source": [
    "from sklearn.dummy import DummyClassifier\n",
    "\n",
    "# Negative class (0) is most frequent\n",
    "dummy_majority = DummyClassifier(strategy = 'most_frequent').fit(X_train, y_train)\n",
    "y_majority_predicted = dummy_majority.predict(X_test)\n",
    "confusion_dummy = confusion_matrix(y_test, y_majority_predicted)\n",
    "\n",
    "print('Most frequent class (dummy classifier)\\n', confusion_dummy)"
   ]
  },
  {
   "cell_type": "markdown",
   "metadata": {
    "collapsed": true
   },
   "source": [
    "**SMOTE**"
   ]
  },
  {
   "cell_type": "code",
   "execution_count": 51,
   "metadata": {
    "collapsed": false
   },
   "outputs": [],
   "source": [
    "from imblearn.over_sampling import SMOTE "
   ]
  },
  {
   "cell_type": "code",
   "execution_count": 52,
   "metadata": {
    "collapsed": false
   },
   "outputs": [],
   "source": [
    "sm= SMOTE(random_state=7)"
   ]
  },
  {
   "cell_type": "code",
   "execution_count": 53,
   "metadata": {
    "collapsed": false
   },
   "outputs": [],
   "source": [
    "X_sm, y_sm=sm.fit_sample(X,y)"
   ]
  },
  {
   "cell_type": "code",
   "execution_count": 54,
   "metadata": {
    "collapsed": false
   },
   "outputs": [],
   "source": [
    "X_sm_train,X_sm_test,y_sm_train,y_sm_test=train_test_split(X_sm,y_sm,test_size=0.3,random_state=7)"
   ]
  },
  {
   "cell_type": "code",
   "execution_count": 77,
   "metadata": {
    "collapsed": false
   },
   "outputs": [
    {
     "data": {
      "text/plain": [
       "0.99174122505161733"
      ]
     },
     "execution_count": 77,
     "metadata": {},
     "output_type": "execute_result"
    }
   ],
   "source": [
    "clf_sm = RandomForestClassifier(n_estimators=1000, max_depth=4, random_state=7).fit(X_sm_train, y_sm_train)\n",
    "clf_sm.score(X_sm_train,y_sm_train)"
   ]
  },
  {
   "cell_type": "code",
   "execution_count": 79,
   "metadata": {
    "collapsed": true
   },
   "outputs": [],
   "source": [
    "predict_y_sm=clf_sm.predict(X_sm_test)"
   ]
  },
  {
   "cell_type": "code",
   "execution_count": 80,
   "metadata": {
    "collapsed": false
   },
   "outputs": [
    {
     "name": "stdout",
     "output_type": "stream",
     "text": [
      "[[308  10]\n",
      " [  2 303]]\n"
     ]
    }
   ],
   "source": [
    "confusion_sm = confusion_matrix(y_sm_test, predict_y_sm)\n",
    "print(confusion_sm)"
   ]
  },
  {
   "cell_type": "code",
   "execution_count": 81,
   "metadata": {
    "collapsed": false
   },
   "outputs": [],
   "source": [
    "from sklearn.metrics import *"
   ]
  },
  {
   "cell_type": "code",
   "execution_count": 82,
   "metadata": {
    "collapsed": false
   },
   "outputs": [
    {
     "name": "stdout",
     "output_type": "stream",
     "text": [
      "             precision    recall  f1-score   support\n",
      "\n",
      "          0       0.99      0.97      0.98       318\n",
      "          1       0.97      0.99      0.98       305\n",
      "\n",
      "avg / total       0.98      0.98      0.98       623\n",
      "\n"
     ]
    }
   ],
   "source": [
    "print(classification_report(y_sm_test, predict_y_sm))"
   ]
  },
  {
   "cell_type": "code",
   "execution_count": 83,
   "metadata": {
    "collapsed": false
   },
   "outputs": [
    {
     "data": {
      "text/plain": [
       "0.96805111821086265"
      ]
     },
     "execution_count": 83,
     "metadata": {},
     "output_type": "execute_result"
    }
   ],
   "source": [
    "precision_score(y_sm_test, predict_y_sm)"
   ]
  },
  {
   "cell_type": "markdown",
   "metadata": {},
   "source": [
    "**Prediction on the Original Dataset**"
   ]
  },
  {
   "cell_type": "code",
   "execution_count": 84,
   "metadata": {
    "collapsed": false
   },
   "outputs": [
    {
     "data": {
      "text/plain": [
       "0.98231292517006807"
      ]
     },
     "execution_count": 84,
     "metadata": {},
     "output_type": "execute_result"
    }
   ],
   "source": [
    "clf_sm.score(X_train,y_train)"
   ]
  },
  {
   "cell_type": "code",
   "execution_count": 85,
   "metadata": {
    "collapsed": true
   },
   "outputs": [],
   "source": [
    "predict_y_exp=clf_sm.predict(X_test)"
   ]
  },
  {
   "cell_type": "code",
   "execution_count": 86,
   "metadata": {
    "collapsed": false
   },
   "outputs": [
    {
     "data": {
      "text/plain": [
       "array([[306,   6],\n",
       "       [  0,   3]])"
      ]
     },
     "execution_count": 86,
     "metadata": {},
     "output_type": "execute_result"
    }
   ],
   "source": [
    "confusion_matrix(y_test,predict_y_exp)"
   ]
  },
  {
   "cell_type": "code",
   "execution_count": 87,
   "metadata": {
    "collapsed": false
   },
   "outputs": [
    {
     "data": {
      "text/plain": [
       "0.33333333333333331"
      ]
     },
     "execution_count": 87,
     "metadata": {},
     "output_type": "execute_result"
    }
   ],
   "source": [
    "precision_score(y_test, predict_y_exp)"
   ]
  },
  {
   "cell_type": "code",
   "execution_count": 88,
   "metadata": {
    "collapsed": false
   },
   "outputs": [
    {
     "name": "stdout",
     "output_type": "stream",
     "text": [
      "             precision    recall  f1-score   support\n",
      "\n",
      "          0       1.00      0.98      0.99       312\n",
      "          1       0.33      1.00      0.50         3\n",
      "\n",
      "avg / total       0.99      0.98      0.99       315\n",
      "\n"
     ]
    }
   ],
   "source": [
    "print(classification_report(y_test, predict_y_exp))"
   ]
  },
  {
   "cell_type": "code",
   "execution_count": 97,
   "metadata": {
    "collapsed": true
   },
   "outputs": [],
   "source": [
    "new_trans= pd.read_excel(\"C:/Users/Harshit Rastogi/Documents/VirtusaPolaris/Transaction_DB_jupyter_test.xlsx\")"
   ]
  },
  {
   "cell_type": "code",
   "execution_count": 98,
   "metadata": {
    "collapsed": false
   },
   "outputs": [
    {
     "name": "stdout",
     "output_type": "stream",
     "text": [
      "[1]\n"
     ]
    }
   ],
   "source": [
    "print(clf_sm.predict(new_trans))"
   ]
  },
  {
   "cell_type": "code",
   "execution_count": 102,
   "metadata": {
    "collapsed": false
   },
   "outputs": [
    {
     "data": {
      "text/plain": [
       "array([ 0.10992709,  0.03441506,  0.03584814,  0.07361662,  0.01524566,\n",
       "        0.0295088 ,  0.03449499,  0.01036634,  0.04795117,  0.17219814,\n",
       "        0.02590298,  0.10813317,  0.07656377,  0.09961481,  0.08376271,\n",
       "        0.        ,  0.01907698,  0.01391459,  0.00945896])"
      ]
     },
     "execution_count": 102,
     "metadata": {},
     "output_type": "execute_result"
    }
   ],
   "source": [
    "clf_sm.feature_importances_"
   ]
  },
  {
   "cell_type": "code",
   "execution_count": 109,
   "metadata": {
    "collapsed": false
   },
   "outputs": [],
   "source": [
    "X_sm=pd.DataFrame(X_sm)\n",
    "y_sm=pd.DataFrame(y_sm)    \n",
    "balanced_dataset=pd.concat([y_sm,X_sm], axis=1)"
   ]
  },
  {
   "cell_type": "code",
   "execution_count": 105,
   "metadata": {
    "collapsed": true
   },
   "outputs": [],
   "source": [
    "balanced_dataset.to_excel(\"C:/Users/Harshit Rastogi/Documents/VirtusaPolaris/Balanced_Transactions.xlsx\")"
   ]
  },
  {
   "cell_type": "code",
   "execution_count": 110,
   "metadata": {
    "collapsed": true
   },
   "outputs": [],
   "source": [
    "balanced_dataset.to_csv(\"C:/Users/Harshit Rastogi/Documents/VirtusaPolaris/Balanced_Transactions.csv\",header=False,index=False)"
   ]
  },
  {
   "cell_type": "code",
   "execution_count": null,
   "metadata": {
    "collapsed": true
   },
   "outputs": [],
   "source": []
  }
 ],
 "metadata": {
  "kernelspec": {
   "display_name": "Python 2",
   "language": "python",
   "name": "python2"
  },
  "language_info": {
   "codemirror_mode": {
    "name": "ipython",
    "version": 2
   },
   "file_extension": ".py",
   "mimetype": "text/x-python",
   "name": "python",
   "nbconvert_exporter": "python",
   "pygments_lexer": "ipython2",
   "version": "2.7.13"
  }
 },
 "nbformat": 4,
 "nbformat_minor": 2
}
